{
 "cells": [
  {
   "cell_type": "markdown",
   "metadata": {
    "id": "-Acr06aY_sc6"
   },
   "source": [
    "# **Data import from drive**"
   ]
  },
  {
   "cell_type": "code",
   "execution_count": 2,
   "metadata": {
    "id": "dh2AZ8Mj_pxg"
   },
   "outputs": [
    {
     "data": {
      "text/html": [
       "<div>\n",
       "<style scoped>\n",
       "    .dataframe tbody tr th:only-of-type {\n",
       "        vertical-align: middle;\n",
       "    }\n",
       "\n",
       "    .dataframe tbody tr th {\n",
       "        vertical-align: top;\n",
       "    }\n",
       "\n",
       "    .dataframe thead th {\n",
       "        text-align: right;\n",
       "    }\n",
       "</style>\n",
       "<table border=\"1\" class=\"dataframe\">\n",
       "  <thead>\n",
       "    <tr style=\"text-align: right;\">\n",
       "      <th></th>\n",
       "      <th>country</th>\n",
       "      <th>location_name</th>\n",
       "      <th>region</th>\n",
       "      <th>latitude</th>\n",
       "      <th>longitude</th>\n",
       "      <th>timezone</th>\n",
       "      <th>last_updated_epoch</th>\n",
       "      <th>last_updated</th>\n",
       "      <th>temperature_celsius</th>\n",
       "      <th>temperature_fahrenheit</th>\n",
       "      <th>...</th>\n",
       "      <th>air_quality_PM2.5</th>\n",
       "      <th>air_quality_PM10</th>\n",
       "      <th>air_quality_us-epa-index</th>\n",
       "      <th>air_quality_gb-defra-index</th>\n",
       "      <th>sunrise</th>\n",
       "      <th>sunset</th>\n",
       "      <th>moonrise</th>\n",
       "      <th>moonset</th>\n",
       "      <th>moon_phase</th>\n",
       "      <th>moon_illumination</th>\n",
       "    </tr>\n",
       "  </thead>\n",
       "  <tbody>\n",
       "    <tr>\n",
       "      <th>0</th>\n",
       "      <td>India</td>\n",
       "      <td>Ashoknagar</td>\n",
       "      <td>Madhya Pradesh</td>\n",
       "      <td>24.57</td>\n",
       "      <td>77.72</td>\n",
       "      <td>Asia/Kolkata</td>\n",
       "      <td>1693286100</td>\n",
       "      <td>2023-08-29 10:45</td>\n",
       "      <td>27.5</td>\n",
       "      <td>81.5</td>\n",
       "      <td>...</td>\n",
       "      <td>12.6</td>\n",
       "      <td>18.5</td>\n",
       "      <td>1</td>\n",
       "      <td>2</td>\n",
       "      <td>05:59 AM</td>\n",
       "      <td>06:41 PM</td>\n",
       "      <td>05:42 PM</td>\n",
       "      <td>03:38 AM</td>\n",
       "      <td>Waxing Gibbous</td>\n",
       "      <td>93</td>\n",
       "    </tr>\n",
       "    <tr>\n",
       "      <th>1</th>\n",
       "      <td>India</td>\n",
       "      <td>Raisen</td>\n",
       "      <td>Madhya Pradesh</td>\n",
       "      <td>23.33</td>\n",
       "      <td>77.80</td>\n",
       "      <td>Asia/Kolkata</td>\n",
       "      <td>1693286100</td>\n",
       "      <td>2023-08-29 10:45</td>\n",
       "      <td>27.5</td>\n",
       "      <td>81.5</td>\n",
       "      <td>...</td>\n",
       "      <td>10.7</td>\n",
       "      <td>14.2</td>\n",
       "      <td>1</td>\n",
       "      <td>1</td>\n",
       "      <td>06:00 AM</td>\n",
       "      <td>06:40 PM</td>\n",
       "      <td>05:39 PM</td>\n",
       "      <td>03:41 AM</td>\n",
       "      <td>Waxing Gibbous</td>\n",
       "      <td>93</td>\n",
       "    </tr>\n",
       "    <tr>\n",
       "      <th>2</th>\n",
       "      <td>India</td>\n",
       "      <td>Chhindwara</td>\n",
       "      <td>Madhya Pradesh</td>\n",
       "      <td>22.07</td>\n",
       "      <td>78.93</td>\n",
       "      <td>Asia/Kolkata</td>\n",
       "      <td>1693286100</td>\n",
       "      <td>2023-08-29 10:45</td>\n",
       "      <td>26.3</td>\n",
       "      <td>79.3</td>\n",
       "      <td>...</td>\n",
       "      <td>16.8</td>\n",
       "      <td>20.7</td>\n",
       "      <td>2</td>\n",
       "      <td>2</td>\n",
       "      <td>05:56 AM</td>\n",
       "      <td>06:34 PM</td>\n",
       "      <td>05:32 PM</td>\n",
       "      <td>03:39 AM</td>\n",
       "      <td>Waxing Gibbous</td>\n",
       "      <td>93</td>\n",
       "    </tr>\n",
       "    <tr>\n",
       "      <th>3</th>\n",
       "      <td>India</td>\n",
       "      <td>Betul</td>\n",
       "      <td>Madhya Pradesh</td>\n",
       "      <td>21.86</td>\n",
       "      <td>77.93</td>\n",
       "      <td>Asia/Kolkata</td>\n",
       "      <td>1693286100</td>\n",
       "      <td>2023-08-29 10:45</td>\n",
       "      <td>25.6</td>\n",
       "      <td>78.1</td>\n",
       "      <td>...</td>\n",
       "      <td>4.9</td>\n",
       "      <td>6.6</td>\n",
       "      <td>1</td>\n",
       "      <td>1</td>\n",
       "      <td>06:00 AM</td>\n",
       "      <td>06:38 PM</td>\n",
       "      <td>05:36 PM</td>\n",
       "      <td>03:43 AM</td>\n",
       "      <td>Waxing Gibbous</td>\n",
       "      <td>93</td>\n",
       "    </tr>\n",
       "    <tr>\n",
       "      <th>4</th>\n",
       "      <td>India</td>\n",
       "      <td>Hoshangabad</td>\n",
       "      <td>Madhya Pradesh</td>\n",
       "      <td>22.75</td>\n",
       "      <td>77.72</td>\n",
       "      <td>Asia/Kolkata</td>\n",
       "      <td>1693286100</td>\n",
       "      <td>2023-08-29 10:45</td>\n",
       "      <td>27.2</td>\n",
       "      <td>81.0</td>\n",
       "      <td>...</td>\n",
       "      <td>11.4</td>\n",
       "      <td>14.8</td>\n",
       "      <td>1</td>\n",
       "      <td>1</td>\n",
       "      <td>06:01 AM</td>\n",
       "      <td>06:39 PM</td>\n",
       "      <td>05:38 PM</td>\n",
       "      <td>03:42 AM</td>\n",
       "      <td>Waxing Gibbous</td>\n",
       "      <td>93</td>\n",
       "    </tr>\n",
       "    <tr>\n",
       "      <th>...</th>\n",
       "      <td>...</td>\n",
       "      <td>...</td>\n",
       "      <td>...</td>\n",
       "      <td>...</td>\n",
       "      <td>...</td>\n",
       "      <td>...</td>\n",
       "      <td>...</td>\n",
       "      <td>...</td>\n",
       "      <td>...</td>\n",
       "      <td>...</td>\n",
       "      <td>...</td>\n",
       "      <td>...</td>\n",
       "      <td>...</td>\n",
       "      <td>...</td>\n",
       "      <td>...</td>\n",
       "      <td>...</td>\n",
       "      <td>...</td>\n",
       "      <td>...</td>\n",
       "      <td>...</td>\n",
       "      <td>...</td>\n",
       "      <td>...</td>\n",
       "    </tr>\n",
       "    <tr>\n",
       "      <th>101885</th>\n",
       "      <td>India</td>\n",
       "      <td>Niwari</td>\n",
       "      <td>Uttar Pradesh</td>\n",
       "      <td>28.88</td>\n",
       "      <td>77.53</td>\n",
       "      <td>Asia/Kolkata</td>\n",
       "      <td>1709658000</td>\n",
       "      <td>2024-03-05 22:30</td>\n",
       "      <td>17.0</td>\n",
       "      <td>62.6</td>\n",
       "      <td>...</td>\n",
       "      <td>62.9</td>\n",
       "      <td>104.3</td>\n",
       "      <td>3</td>\n",
       "      <td>8</td>\n",
       "      <td>06:40 AM</td>\n",
       "      <td>06:22 PM</td>\n",
       "      <td>02:37 AM</td>\n",
       "      <td>12:41 PM</td>\n",
       "      <td>Waning Crescent</td>\n",
       "      <td>36</td>\n",
       "    </tr>\n",
       "    <tr>\n",
       "      <th>101886</th>\n",
       "      <td>India</td>\n",
       "      <td>Saitual</td>\n",
       "      <td>Mizoram</td>\n",
       "      <td>23.97</td>\n",
       "      <td>92.58</td>\n",
       "      <td>Asia/Kolkata</td>\n",
       "      <td>1709658000</td>\n",
       "      <td>2024-03-05 22:30</td>\n",
       "      <td>13.4</td>\n",
       "      <td>56.1</td>\n",
       "      <td>...</td>\n",
       "      <td>53.9</td>\n",
       "      <td>61.2</td>\n",
       "      <td>3</td>\n",
       "      <td>6</td>\n",
       "      <td>05:38 AM</td>\n",
       "      <td>05:25 PM</td>\n",
       "      <td>01:20 AM</td>\n",
       "      <td>11:53 AM</td>\n",
       "      <td>Waning Crescent</td>\n",
       "      <td>36</td>\n",
       "    </tr>\n",
       "    <tr>\n",
       "      <th>101887</th>\n",
       "      <td>India</td>\n",
       "      <td>Ranipet</td>\n",
       "      <td>Tamil Nadu</td>\n",
       "      <td>12.93</td>\n",
       "      <td>79.33</td>\n",
       "      <td>Asia/Kolkata</td>\n",
       "      <td>1709658000</td>\n",
       "      <td>2024-03-05 22:30</td>\n",
       "      <td>22.4</td>\n",
       "      <td>72.3</td>\n",
       "      <td>...</td>\n",
       "      <td>34.7</td>\n",
       "      <td>45.8</td>\n",
       "      <td>2</td>\n",
       "      <td>3</td>\n",
       "      <td>06:26 AM</td>\n",
       "      <td>06:22 PM</td>\n",
       "      <td>01:47 AM</td>\n",
       "      <td>01:16 PM</td>\n",
       "      <td>Waning Crescent</td>\n",
       "      <td>36</td>\n",
       "    </tr>\n",
       "    <tr>\n",
       "      <th>101888</th>\n",
       "      <td>India</td>\n",
       "      <td>Tenkasi</td>\n",
       "      <td>Tamil Nadu</td>\n",
       "      <td>8.97</td>\n",
       "      <td>77.30</td>\n",
       "      <td>Asia/Kolkata</td>\n",
       "      <td>1709658000</td>\n",
       "      <td>2024-03-05 22:30</td>\n",
       "      <td>28.0</td>\n",
       "      <td>82.4</td>\n",
       "      <td>...</td>\n",
       "      <td>12.5</td>\n",
       "      <td>22.1</td>\n",
       "      <td>1</td>\n",
       "      <td>2</td>\n",
       "      <td>06:32 AM</td>\n",
       "      <td>06:32 PM</td>\n",
       "      <td>01:46 AM</td>\n",
       "      <td>01:34 PM</td>\n",
       "      <td>Waning Crescent</td>\n",
       "      <td>36</td>\n",
       "    </tr>\n",
       "    <tr>\n",
       "      <th>101889</th>\n",
       "      <td>India</td>\n",
       "      <td>Pendra</td>\n",
       "      <td>Maharashtra</td>\n",
       "      <td>21.93</td>\n",
       "      <td>74.15</td>\n",
       "      <td>Asia/Kolkata</td>\n",
       "      <td>1709658000</td>\n",
       "      <td>2024-03-05 22:30</td>\n",
       "      <td>21.4</td>\n",
       "      <td>70.5</td>\n",
       "      <td>...</td>\n",
       "      <td>28.8</td>\n",
       "      <td>40.0</td>\n",
       "      <td>2</td>\n",
       "      <td>3</td>\n",
       "      <td>06:51 AM</td>\n",
       "      <td>06:39 PM</td>\n",
       "      <td>02:31 AM</td>\n",
       "      <td>01:15 PM</td>\n",
       "      <td>Waning Crescent</td>\n",
       "      <td>36</td>\n",
       "    </tr>\n",
       "  </tbody>\n",
       "</table>\n",
       "<p>101890 rows × 42 columns</p>\n",
       "</div>"
      ],
      "text/plain": [
       "       country location_name          region  latitude  longitude  \\\n",
       "0        India    Ashoknagar  Madhya Pradesh     24.57      77.72   \n",
       "1        India        Raisen  Madhya Pradesh     23.33      77.80   \n",
       "2        India    Chhindwara  Madhya Pradesh     22.07      78.93   \n",
       "3        India         Betul  Madhya Pradesh     21.86      77.93   \n",
       "4        India   Hoshangabad  Madhya Pradesh     22.75      77.72   \n",
       "...        ...           ...             ...       ...        ...   \n",
       "101885   India        Niwari   Uttar Pradesh     28.88      77.53   \n",
       "101886   India       Saitual         Mizoram     23.97      92.58   \n",
       "101887   India       Ranipet      Tamil Nadu     12.93      79.33   \n",
       "101888   India       Tenkasi      Tamil Nadu      8.97      77.30   \n",
       "101889   India        Pendra     Maharashtra     21.93      74.15   \n",
       "\n",
       "            timezone  last_updated_epoch      last_updated  \\\n",
       "0       Asia/Kolkata          1693286100  2023-08-29 10:45   \n",
       "1       Asia/Kolkata          1693286100  2023-08-29 10:45   \n",
       "2       Asia/Kolkata          1693286100  2023-08-29 10:45   \n",
       "3       Asia/Kolkata          1693286100  2023-08-29 10:45   \n",
       "4       Asia/Kolkata          1693286100  2023-08-29 10:45   \n",
       "...              ...                 ...               ...   \n",
       "101885  Asia/Kolkata          1709658000  2024-03-05 22:30   \n",
       "101886  Asia/Kolkata          1709658000  2024-03-05 22:30   \n",
       "101887  Asia/Kolkata          1709658000  2024-03-05 22:30   \n",
       "101888  Asia/Kolkata          1709658000  2024-03-05 22:30   \n",
       "101889  Asia/Kolkata          1709658000  2024-03-05 22:30   \n",
       "\n",
       "        temperature_celsius  temperature_fahrenheit  ... air_quality_PM2.5  \\\n",
       "0                      27.5                    81.5  ...              12.6   \n",
       "1                      27.5                    81.5  ...              10.7   \n",
       "2                      26.3                    79.3  ...              16.8   \n",
       "3                      25.6                    78.1  ...               4.9   \n",
       "4                      27.2                    81.0  ...              11.4   \n",
       "...                     ...                     ...  ...               ...   \n",
       "101885                 17.0                    62.6  ...              62.9   \n",
       "101886                 13.4                    56.1  ...              53.9   \n",
       "101887                 22.4                    72.3  ...              34.7   \n",
       "101888                 28.0                    82.4  ...              12.5   \n",
       "101889                 21.4                    70.5  ...              28.8   \n",
       "\n",
       "        air_quality_PM10  air_quality_us-epa-index  \\\n",
       "0                   18.5                         1   \n",
       "1                   14.2                         1   \n",
       "2                   20.7                         2   \n",
       "3                    6.6                         1   \n",
       "4                   14.8                         1   \n",
       "...                  ...                       ...   \n",
       "101885             104.3                         3   \n",
       "101886              61.2                         3   \n",
       "101887              45.8                         2   \n",
       "101888              22.1                         1   \n",
       "101889              40.0                         2   \n",
       "\n",
       "        air_quality_gb-defra-index   sunrise    sunset  moonrise   moonset  \\\n",
       "0                                2  05:59 AM  06:41 PM  05:42 PM  03:38 AM   \n",
       "1                                1  06:00 AM  06:40 PM  05:39 PM  03:41 AM   \n",
       "2                                2  05:56 AM  06:34 PM  05:32 PM  03:39 AM   \n",
       "3                                1  06:00 AM  06:38 PM  05:36 PM  03:43 AM   \n",
       "4                                1  06:01 AM  06:39 PM  05:38 PM  03:42 AM   \n",
       "...                            ...       ...       ...       ...       ...   \n",
       "101885                           8  06:40 AM  06:22 PM  02:37 AM  12:41 PM   \n",
       "101886                           6  05:38 AM  05:25 PM  01:20 AM  11:53 AM   \n",
       "101887                           3  06:26 AM  06:22 PM  01:47 AM  01:16 PM   \n",
       "101888                           2  06:32 AM  06:32 PM  01:46 AM  01:34 PM   \n",
       "101889                           3  06:51 AM  06:39 PM  02:31 AM  01:15 PM   \n",
       "\n",
       "             moon_phase  moon_illumination  \n",
       "0        Waxing Gibbous                 93  \n",
       "1        Waxing Gibbous                 93  \n",
       "2        Waxing Gibbous                 93  \n",
       "3        Waxing Gibbous                 93  \n",
       "4        Waxing Gibbous                 93  \n",
       "...                 ...                ...  \n",
       "101885  Waning Crescent                 36  \n",
       "101886  Waning Crescent                 36  \n",
       "101887  Waning Crescent                 36  \n",
       "101888  Waning Crescent                 36  \n",
       "101889  Waning Crescent                 36  \n",
       "\n",
       "[101890 rows x 42 columns]"
      ]
     },
     "execution_count": 2,
     "metadata": {},
     "output_type": "execute_result"
    }
   ],
   "source": [
    "import pandas as pd\n",
    "\n",
    "path='IndianWeatherRepository.csv'\n",
    "df=pd.read_csv(path, encoding = \"ISO-8859-1\")\n",
    "df"
   ]
  },
  {
   "cell_type": "markdown",
   "metadata": {
    "id": "JD9ehYEHFQoB"
   },
   "source": [
    "# **Cheack data information**"
   ]
  },
  {
   "cell_type": "code",
   "execution_count": 3,
   "metadata": {
    "id": "-krk3C5AFW-K"
   },
   "outputs": [
    {
     "name": "stdout",
     "output_type": "stream",
     "text": [
      "(101890, 42)\n",
      "RangeIndex(start=0, stop=101890, step=1)\n",
      "\n",
      "Index(['country', 'location_name', 'region', 'latitude', 'longitude',\n",
      "       'timezone', 'last_updated_epoch', 'last_updated', 'temperature_celsius',\n",
      "       'temperature_fahrenheit', 'condition_text', 'wind_mph', 'wind_kph',\n",
      "       'wind_degree', 'wind_direction', 'pressure_mb', 'pressure_in',\n",
      "       'precip_mm', 'precip_in', 'humidity', 'cloud', 'feels_like_celsius',\n",
      "       'feels_like_fahrenheit', 'visibility_km', 'visibility_miles',\n",
      "       'uv_index', 'gust_mph', 'gust_kph', 'air_quality_Carbon_Monoxide',\n",
      "       'air_quality_Ozone', 'air_quality_Nitrogen_dioxide',\n",
      "       'air_quality_Sulphur_dioxide', 'air_quality_PM2.5', 'air_quality_PM10',\n",
      "       'air_quality_us-epa-index', 'air_quality_gb-defra-index', 'sunrise',\n",
      "       'sunset', 'moonrise', 'moonset', 'moon_phase', 'moon_illumination'],\n",
      "      dtype='object')\n",
      "\n"
     ]
    }
   ],
   "source": [
    "print(df.shape)\n",
    "print(df.index)\n",
    "print()\n",
    "print(df.columns)\n",
    "print()\n"
   ]
  },
  {
   "cell_type": "code",
   "execution_count": 4,
   "metadata": {
    "id": "F1W8Wxd0Gf31"
   },
   "outputs": [
    {
     "name": "stdout",
     "output_type": "stream",
     "text": [
      "/n <bound method DataFrame.count of        country location_name          region  latitude  longitude  \\\n",
      "0        India    Ashoknagar  Madhya Pradesh     24.57      77.72   \n",
      "1        India        Raisen  Madhya Pradesh     23.33      77.80   \n",
      "2        India    Chhindwara  Madhya Pradesh     22.07      78.93   \n",
      "3        India         Betul  Madhya Pradesh     21.86      77.93   \n",
      "4        India   Hoshangabad  Madhya Pradesh     22.75      77.72   \n",
      "...        ...           ...             ...       ...        ...   \n",
      "101885   India        Niwari   Uttar Pradesh     28.88      77.53   \n",
      "101886   India       Saitual         Mizoram     23.97      92.58   \n",
      "101887   India       Ranipet      Tamil Nadu     12.93      79.33   \n",
      "101888   India       Tenkasi      Tamil Nadu      8.97      77.30   \n",
      "101889   India        Pendra     Maharashtra     21.93      74.15   \n",
      "\n",
      "            timezone  last_updated_epoch      last_updated  \\\n",
      "0       Asia/Kolkata          1693286100  2023-08-29 10:45   \n",
      "1       Asia/Kolkata          1693286100  2023-08-29 10:45   \n",
      "2       Asia/Kolkata          1693286100  2023-08-29 10:45   \n",
      "3       Asia/Kolkata          1693286100  2023-08-29 10:45   \n",
      "4       Asia/Kolkata          1693286100  2023-08-29 10:45   \n",
      "...              ...                 ...               ...   \n",
      "101885  Asia/Kolkata          1709658000  2024-03-05 22:30   \n",
      "101886  Asia/Kolkata          1709658000  2024-03-05 22:30   \n",
      "101887  Asia/Kolkata          1709658000  2024-03-05 22:30   \n",
      "101888  Asia/Kolkata          1709658000  2024-03-05 22:30   \n",
      "101889  Asia/Kolkata          1709658000  2024-03-05 22:30   \n",
      "\n",
      "        temperature_celsius  temperature_fahrenheit  ... air_quality_PM2.5  \\\n",
      "0                      27.5                    81.5  ...              12.6   \n",
      "1                      27.5                    81.5  ...              10.7   \n",
      "2                      26.3                    79.3  ...              16.8   \n",
      "3                      25.6                    78.1  ...               4.9   \n",
      "4                      27.2                    81.0  ...              11.4   \n",
      "...                     ...                     ...  ...               ...   \n",
      "101885                 17.0                    62.6  ...              62.9   \n",
      "101886                 13.4                    56.1  ...              53.9   \n",
      "101887                 22.4                    72.3  ...              34.7   \n",
      "101888                 28.0                    82.4  ...              12.5   \n",
      "101889                 21.4                    70.5  ...              28.8   \n",
      "\n",
      "        air_quality_PM10  air_quality_us-epa-index  \\\n",
      "0                   18.5                         1   \n",
      "1                   14.2                         1   \n",
      "2                   20.7                         2   \n",
      "3                    6.6                         1   \n",
      "4                   14.8                         1   \n",
      "...                  ...                       ...   \n",
      "101885             104.3                         3   \n",
      "101886              61.2                         3   \n",
      "101887              45.8                         2   \n",
      "101888              22.1                         1   \n",
      "101889              40.0                         2   \n",
      "\n",
      "        air_quality_gb-defra-index   sunrise    sunset  moonrise   moonset  \\\n",
      "0                                2  05:59 AM  06:41 PM  05:42 PM  03:38 AM   \n",
      "1                                1  06:00 AM  06:40 PM  05:39 PM  03:41 AM   \n",
      "2                                2  05:56 AM  06:34 PM  05:32 PM  03:39 AM   \n",
      "3                                1  06:00 AM  06:38 PM  05:36 PM  03:43 AM   \n",
      "4                                1  06:01 AM  06:39 PM  05:38 PM  03:42 AM   \n",
      "...                            ...       ...       ...       ...       ...   \n",
      "101885                           8  06:40 AM  06:22 PM  02:37 AM  12:41 PM   \n",
      "101886                           6  05:38 AM  05:25 PM  01:20 AM  11:53 AM   \n",
      "101887                           3  06:26 AM  06:22 PM  01:47 AM  01:16 PM   \n",
      "101888                           2  06:32 AM  06:32 PM  01:46 AM  01:34 PM   \n",
      "101889                           3  06:51 AM  06:39 PM  02:31 AM  01:15 PM   \n",
      "\n",
      "             moon_phase  moon_illumination  \n",
      "0        Waxing Gibbous                 93  \n",
      "1        Waxing Gibbous                 93  \n",
      "2        Waxing Gibbous                 93  \n",
      "3        Waxing Gibbous                 93  \n",
      "4        Waxing Gibbous                 93  \n",
      "...                 ...                ...  \n",
      "101885  Waning Crescent                 36  \n",
      "101886  Waning Crescent                 36  \n",
      "101887  Waning Crescent                 36  \n",
      "101888  Waning Crescent                 36  \n",
      "101889  Waning Crescent                 36  \n",
      "\n",
      "[101890 rows x 42 columns]>\n"
     ]
    }
   ],
   "source": [
    "print('/n',df.count)"
   ]
  },
  {
   "cell_type": "markdown",
   "metadata": {
    "id": "Kee_B0qQJbeS"
   },
   "source": [
    "# Data preprocessing"
   ]
  },
  {
   "cell_type": "markdown",
   "metadata": {
    "id": "8NSfAzX6K2yW"
   },
   "source": [
    "large amount of data you used system crased used maxmum 30,000 data set"
   ]
  },
  {
   "cell_type": "code",
   "execution_count": 5,
   "metadata": {
    "id": "E5fQc1HvJgJ9"
   },
   "outputs": [
    {
     "data": {
      "text/html": [
       "<div>\n",
       "<style scoped>\n",
       "    .dataframe tbody tr th:only-of-type {\n",
       "        vertical-align: middle;\n",
       "    }\n",
       "\n",
       "    .dataframe tbody tr th {\n",
       "        vertical-align: top;\n",
       "    }\n",
       "\n",
       "    .dataframe thead th {\n",
       "        text-align: right;\n",
       "    }\n",
       "</style>\n",
       "<table border=\"1\" class=\"dataframe\">\n",
       "  <thead>\n",
       "    <tr style=\"text-align: right;\">\n",
       "      <th></th>\n",
       "      <th>temperature_celsius</th>\n",
       "      <th>air_quality_PM2.5</th>\n",
       "    </tr>\n",
       "  </thead>\n",
       "  <tbody>\n",
       "    <tr>\n",
       "      <th>0</th>\n",
       "      <td>27.5</td>\n",
       "      <td>12.6</td>\n",
       "    </tr>\n",
       "    <tr>\n",
       "      <th>1</th>\n",
       "      <td>27.5</td>\n",
       "      <td>10.7</td>\n",
       "    </tr>\n",
       "    <tr>\n",
       "      <th>2</th>\n",
       "      <td>26.3</td>\n",
       "      <td>16.8</td>\n",
       "    </tr>\n",
       "    <tr>\n",
       "      <th>3</th>\n",
       "      <td>25.6</td>\n",
       "      <td>4.9</td>\n",
       "    </tr>\n",
       "    <tr>\n",
       "      <th>4</th>\n",
       "      <td>27.2</td>\n",
       "      <td>11.4</td>\n",
       "    </tr>\n",
       "    <tr>\n",
       "      <th>...</th>\n",
       "      <td>...</td>\n",
       "      <td>...</td>\n",
       "    </tr>\n",
       "    <tr>\n",
       "      <th>101885</th>\n",
       "      <td>17.0</td>\n",
       "      <td>62.9</td>\n",
       "    </tr>\n",
       "    <tr>\n",
       "      <th>101886</th>\n",
       "      <td>13.4</td>\n",
       "      <td>53.9</td>\n",
       "    </tr>\n",
       "    <tr>\n",
       "      <th>101887</th>\n",
       "      <td>22.4</td>\n",
       "      <td>34.7</td>\n",
       "    </tr>\n",
       "    <tr>\n",
       "      <th>101888</th>\n",
       "      <td>28.0</td>\n",
       "      <td>12.5</td>\n",
       "    </tr>\n",
       "    <tr>\n",
       "      <th>101889</th>\n",
       "      <td>21.4</td>\n",
       "      <td>28.8</td>\n",
       "    </tr>\n",
       "  </tbody>\n",
       "</table>\n",
       "<p>101890 rows × 2 columns</p>\n",
       "</div>"
      ],
      "text/plain": [
       "        temperature_celsius  air_quality_PM2.5\n",
       "0                      27.5               12.6\n",
       "1                      27.5               10.7\n",
       "2                      26.3               16.8\n",
       "3                      25.6                4.9\n",
       "4                      27.2               11.4\n",
       "...                     ...                ...\n",
       "101885                 17.0               62.9\n",
       "101886                 13.4               53.9\n",
       "101887                 22.4               34.7\n",
       "101888                 28.0               12.5\n",
       "101889                 21.4               28.8\n",
       "\n",
       "[101890 rows x 2 columns]"
      ]
     },
     "execution_count": 5,
     "metadata": {},
     "output_type": "execute_result"
    }
   ],
   "source": [
    "\n",
    "data1=df.iloc[:,[8,-10]]  #start toend and 8th and -10 row only\n",
    "data1"
   ]
  },
  {
   "cell_type": "code",
   "execution_count": 6,
   "metadata": {
    "id": "wrUSc0JrJgqz"
   },
   "outputs": [
    {
     "data": {
      "text/plain": [
       "temperature_celsius    0\n",
       "air_quality_PM2.5      0\n",
       "dtype: int64"
      ]
     },
     "execution_count": 6,
     "metadata": {},
     "output_type": "execute_result"
    }
   ],
   "source": [
    "data1.isna().sum()\n"
   ]
  },
  {
   "cell_type": "code",
   "execution_count": 7,
   "metadata": {
    "id": "4lJoyMOGgtNq"
   },
   "outputs": [
    {
     "name": "stdout",
     "output_type": "stream",
     "text": [
      "<class 'pandas.core.frame.DataFrame'>\n",
      "RangeIndex: 101890 entries, 0 to 101889\n",
      "Data columns (total 2 columns):\n",
      " #   Column               Non-Null Count   Dtype  \n",
      "---  ------               --------------   -----  \n",
      " 0   temperature_celsius  101890 non-null  float64\n",
      " 1   air_quality_PM2.5    101890 non-null  float64\n",
      "dtypes: float64(2)\n",
      "memory usage: 1.6 MB\n"
     ]
    }
   ],
   "source": [
    "data1.info()"
   ]
  },
  {
   "cell_type": "markdown",
   "metadata": {
    "id": "yPEyC10wPXFg"
   },
   "source": [
    "## Data Visuvalation"
   ]
  },
  {
   "cell_type": "code",
   "execution_count": 8,
   "metadata": {
    "id": "TT9dSiFZQw6c"
   },
   "outputs": [
    {
     "name": "stdout",
     "output_type": "stream",
     "text": [
      "        temperature_celsius\n",
      "0                      27.5\n",
      "1                      27.5\n",
      "2                      26.3\n",
      "3                      25.6\n",
      "4                      27.2\n",
      "...                     ...\n",
      "101885                 17.0\n",
      "101886                 13.4\n",
      "101887                 22.4\n",
      "101888                 28.0\n",
      "101889                 21.4\n",
      "\n",
      "[101890 rows x 1 columns]\n"
     ]
    },
    {
     "data": {
      "text/plain": [
       "pandas.core.frame.DataFrame"
      ]
     },
     "execution_count": 8,
     "metadata": {},
     "output_type": "execute_result"
    }
   ],
   "source": [
    "x=data1[['temperature_celsius']]\n",
    "# x.min()\n",
    "# x.max()\n",
    "type(x)"
   ]
  },
  {
   "cell_type": "code",
   "execution_count": 9,
   "metadata": {
    "id": "bIcvJ-RSPbzi"
   },
   "outputs": [
    {
     "data": {
      "image/png": "[encoded data removed]",
      "text/plain": [
       "<Figure size 640x480 with 1 Axes>"
      ]
     },
     "metadata": {},
     "output_type": "display_data"
    }
   ],
   "source": [
    "import matplotlib.pyplot as plt\n",
    "x = data1[\"temperature_celsius\"]\n",
    "y = data1[\"air_quality_PM2.5\"]\n",
    "fig = plt.figure()\n",
    "ax = fig.add_subplot(111)\n",
    "ax.scatter(x,y,color='red',s=2)\n",
    "ax.set(title='Temperature_celsius/Air_quality_PM2.5',xlabel='Temperature_celsius',ylabel='Air_quality_PM2.5')\n",
    "ax.set_xlim(-50, 50)\n",
    "plt.show()"
   ]
  },
  {
   "cell_type": "markdown",
   "metadata": {
    "id": "Axx-GK9lTzMs"
   },
   "source": []
  },
  {
   "cell_type": "markdown",
   "metadata": {
    "id": "E9VAsGM6e2Ci"
   },
   "source": [
    "# Splitting Data into Training and Testing Sets"
   ]
  },
  {
   "cell_type": "code",
   "execution_count": 10,
   "metadata": {
    "id": "iEyD_4yXe4mV"
   },
   "outputs": [
    {
     "name": "stdout",
     "output_type": "stream",
     "text": [
      "(81512,) (20378,) (81512,) (20378,)\n",
      "(101890,) (101890,)\n",
      "1\n",
      "<class 'pandas.core.series.Series'>\n"
     ]
    }
   ],
   "source": [
    "from sklearn.model_selection import train_test_split\n",
    "\n",
    "X_train, X_test, y_train, y_test = train_test_split(x,y,test_size=0.2)\n",
    "\n",
    "print(X_train.shape, X_test.shape, y_train.shape, y_test.shape)\n",
    "print(x.shape,y.shape)\n",
    "print(X_train.ndim)\n",
    "print(type(X_train))"
   ]
  },
  {
   "cell_type": "code",
   "execution_count": 11,
   "metadata": {
    "id": "2dCGQhkoAsPo"
   },
   "outputs": [
    {
     "name": "stdout",
     "output_type": "stream",
     "text": [
      "<class 'pandas.core.series.Series'>\n",
      "<class 'numpy.ndarray'>\n",
      "[20.  18.  24.4 ... 14.1 22.7 14.1]\n",
      "63470    20.0\n",
      "39921    18.0\n",
      "10624    24.4\n",
      "32733    21.0\n",
      "64927    20.1\n",
      "         ... \n",
      "14011    19.9\n",
      "40871    20.2\n",
      "40685    14.1\n",
      "96784    22.7\n",
      "82646    14.1\n",
      "Name: temperature_celsius, Length: 81512, dtype: float64\n"
     ]
    }
   ],
   "source": [
    "print(type(X_train))\n",
    "print(type(X_train.to_numpy()))\n",
    "print(X_train.to_numpy())\n",
    "print(X_train)"
   ]
  },
  {
   "cell_type": "code",
   "execution_count": 12,
   "metadata": {
    "id": "x_lvHj5CHbuR"
   },
   "outputs": [
    {
     "name": "stdout",
     "output_type": "stream",
     "text": [
      "1\n",
      "1\n",
      "100730    15.3\n",
      "26376     22.0\n",
      "30827     17.9\n",
      "17502     29.0\n",
      "66936     23.7\n",
      "          ... \n",
      "10727     21.4\n",
      "94574     13.0\n",
      "19116     23.8\n",
      "46358     19.6\n",
      "45901     26.0\n",
      "Name: temperature_celsius, Length: 20378, dtype: float64\n"
     ]
    }
   ],
   "source": [
    "print(X_train.ndim)\n",
    "print(y_train.ndim)\n",
    "print(X_test)"
   ]
  },
  {
   "cell_type": "markdown",
   "metadata": {
    "id": "A_aR3Daorqmg"
   },
   "source": [
    "# Finding pridection of test data of x\n",
    "**prediction means average slope and intercept basd finding y value**"
   ]
  },
  {
   "cell_type": "code",
   "execution_count": 13,
   "metadata": {
    "id": "_Sr6LPuDsI0W"
   },
   "outputs": [],
   "source": [
    "import numpy as np\n",
    "X=np.array(X_train).reshape(X_train.shape[0],1)\n",
    "Y=np.array(y_train).reshape(y_train.shape[0],1)\n",
    "x=np.array(X_test).reshape(X_test.shape[0],1)\n"
   ]
  },
  {
   "cell_type": "code",
   "execution_count": 14,
   "metadata": {
    "id": "y45MkgJVk-tp"
   },
   "outputs": [
    {
     "data": {
      "text/plain": [
       "array([[20. ],\n",
       "       [18. ],\n",
       "       [24.4],\n",
       "       ...,\n",
       "       [14.1],\n",
       "       [22.7],\n",
       "       [14.1]])"
      ]
     },
     "execution_count": 14,
     "metadata": {},
     "output_type": "execute_result"
    }
   ],
   "source": [
    "X"
   ]
  },
  {
   "cell_type": "code",
   "execution_count": 15,
   "metadata": {
    "id": "-IojhjcSlDJQ"
   },
   "outputs": [
    {
     "data": {
      "text/plain": [
       "0         12.6\n",
       "1         10.7\n",
       "2         16.8\n",
       "3          4.9\n",
       "4         11.4\n",
       "          ... \n",
       "101885    62.9\n",
       "101886    53.9\n",
       "101887    34.7\n",
       "101888    12.5\n",
       "101889    28.8\n",
       "Name: air_quality_PM2.5, Length: 101890, dtype: float64"
      ]
     },
     "execution_count": 15,
     "metadata": {},
     "output_type": "execute_result"
    }
   ],
   "source": [
    "y"
   ]
  },
  {
   "cell_type": "code",
   "execution_count": 16,
   "metadata": {
    "id": "azihxK0jsHCx"
   },
   "outputs": [
    {
     "name": "stdout",
     "output_type": "stream",
     "text": [
      "[[114.94826173]\n",
      " [ 90.18885601]\n",
      " [105.34013414]\n",
      " ...\n",
      " [ 83.53707536]\n",
      " [ 99.05789686]\n",
      " [ 75.40712125]]\n",
      "(20378, 1)\n",
      "(20378,)\n"
     ]
    }
   ],
   "source": [
    "from sklearn.linear_model import LinearRegression\n",
    "import numpy as np\n",
    "\n",
    "\n",
    "reg = LinearRegression()\n",
    "reg.fit(X,Y)\n",
    "y_predic=reg.predict(x)\n",
    "print(y_predic)\n",
    "print(y_predic.shape)\n",
    "print((y_predic.reshape(-1)).shape)\n",
    "\n",
    "\n"
   ]
  },
  {
   "cell_type": "code",
   "execution_count": 17,
   "metadata": {
    "id": "U7SQk6erliYG"
   },
   "outputs": [
    {
     "name": "stdout",
     "output_type": "stream",
     "text": [
      "(101890,)\n",
      "(20378, 1)\n"
     ]
    }
   ],
   "source": [
    "x_shape=data1[\"temperature_celsius\"]\n",
    "print(x_shape.shape)\n",
    "print(y_predic.shape)"
   ]
  },
  {
   "cell_type": "markdown",
   "metadata": {
    "id": "x5gEofoLssvZ"
   },
   "source": [
    "# Draw Regration line"
   ]
  },
  {
   "cell_type": "code",
   "execution_count": 18,
   "metadata": {
    "id": "9EBe_SrLfE8c"
   },
   "outputs": [
    {
     "data": {
      "image/png": "[encoded data removed]",
      "text/plain": [
       "<Figure size 640x480 with 1 Axes>"
      ]
     },
     "metadata": {},
     "output_type": "display_data"
    }
   ],
   "source": [
    "\n",
    "fig = plt.figure()\n",
    "ax = fig.add_subplot(111)\n",
    "ax.scatter(data1[\"temperature_celsius\"],data1[\"air_quality_PM2.5\"],color='red',s=1)\n",
    "ax.plot(X_test, y_predic.reshape(-1), color='green', linewidth=1)\n",
    "ax.set(title='Temperature_celsius vs pridic Air_quality_PM2.5',xlabel='Temperature_celsius',ylabel='pridic Air_quality_PM2.5')\n",
    "plt.show()"
   ]
  },
  {
   "cell_type": "markdown",
   "metadata": {
    "id": "HcBGNu9XtBYM"
   },
   "source": [
    "# Find Score of our model"
   ]
  },
  {
   "cell_type": "code",
   "execution_count": 19,
   "metadata": {
    "id": "4OKhOCR4tDW9"
   },
   "outputs": [
    {
     "name": "stdout",
     "output_type": "stream",
     "text": [
      "The accuracy of our model is 6.0%\n"
     ]
    }
   ],
   "source": [
    "from sklearn.metrics import r2_score\n",
    "\n",
    "score = r2_score(y_test, y_predic)\n",
    "print(\"The accuracy of our model is {}%\".format(round(score, 2) *100))\n"
   ]
  },
  {
   "cell_type": "code",
   "execution_count": null,
   "metadata": {
    "id": "7ZFCAgcpwkub"
   },
   "outputs": [],
   "source": []
  },
  {
   "cell_type": "code",
   "execution_count": null,
   "metadata": {},
   "outputs": [],
   "source": []
  }
 ],
 "metadata": {
  "accelerator": "GPU",
  "colab": {
   "authorship_tag": "ABX9TyOA6l3GorLscpAfeSgU0NT0",
   "gpuType": "T4",
   "mount_file_id": "181YwoZQlIxZeuEXRvdSqfVHVJ1VSv5dh",
   "private_outputs": true,
   "provenance": []
  },
  "kernelspec": {
   "display_name": "Python 3 (ipykernel)",
   "language": "python",
   "name": "python3"
  },
  "language_info": {
   "codemirror_mode": {
    "name": "ipython",
    "version": 3
   },
   "file_extension": ".py",
   "mimetype": "text/x-python",
   "name": "python",
   "nbconvert_exporter": "python",
   "pygments_lexer": "ipython3",
   "version": "3.11.7"
  }
 },
 "nbformat": 4,
 "nbformat_minor": 4
}
