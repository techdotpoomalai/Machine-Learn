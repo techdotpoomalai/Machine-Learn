{
 "cells": [
  {
   "cell_type": "markdown",
   "metadata": {
    "id": "dz0qHvx4uZJ9"
   },
   "source": [
    "# Nth nearst distance finding"
   ]
  },
  {
   "cell_type": "code",
   "execution_count": 1,
   "metadata": {
    "id": "HNu-_wwMuYqc"
   },
   "outputs": [
    {
     "name": "stdout",
     "output_type": "stream",
     "text": [
      "3.0 3.0\n"
     ]
    },
    {
     "name": "stderr",
     "output_type": "stream",
     "text": [
      "/var/folders/r0/dqhy5bs54111m22ddrzpm1dc0000gn/T/ipykernel_2886/3088352965.py:17: FutureWarning: Series.__getitem__ treating keys as positions is deprecated. In a future version, integer keys will always be treated as labels (consistent with DataFrame behavior). To access a value by position, use `ser.iloc[pos]`\n",
      "  if data.iloc[x][5]==float(k):\n",
      "/var/folders/r0/dqhy5bs54111m22ddrzpm1dc0000gn/T/ipykernel_2886/3088352965.py:18: FutureWarning: Series.__getitem__ treating keys as positions is deprecated. In a future version, integer keys will always be treated as labels (consistent with DataFrame behavior). To access a value by position, use `ser.iloc[pos]`\n",
      "  print(data.iloc[x][0],data.iloc[x][1])\n"
     ]
    },
    {
     "data": {
      "text/html": [
       "<div>\n",
       "<style scoped>\n",
       "    .dataframe tbody tr th:only-of-type {\n",
       "        vertical-align: middle;\n",
       "    }\n",
       "\n",
       "    .dataframe tbody tr th {\n",
       "        vertical-align: top;\n",
       "    }\n",
       "\n",
       "    .dataframe thead th {\n",
       "        text-align: right;\n",
       "    }\n",
       "</style>\n",
       "<table border=\"1\" class=\"dataframe\">\n",
       "  <thead>\n",
       "    <tr style=\"text-align: right;\">\n",
       "      <th></th>\n",
       "      <th>X</th>\n",
       "      <th>Y</th>\n",
       "      <th>ref_x</th>\n",
       "      <th>ref_y</th>\n",
       "      <th>distance</th>\n",
       "      <th>Rank</th>\n",
       "    </tr>\n",
       "  </thead>\n",
       "  <tbody>\n",
       "    <tr>\n",
       "      <th>1</th>\n",
       "      <td>0</td>\n",
       "      <td>3</td>\n",
       "      <td>0</td>\n",
       "      <td>0</td>\n",
       "      <td>3.000000</td>\n",
       "      <td>1</td>\n",
       "    </tr>\n",
       "    <tr>\n",
       "      <th>2</th>\n",
       "      <td>3</td>\n",
       "      <td>0</td>\n",
       "      <td>0</td>\n",
       "      <td>0</td>\n",
       "      <td>3.000000</td>\n",
       "      <td>2</td>\n",
       "    </tr>\n",
       "    <tr>\n",
       "      <th>3</th>\n",
       "      <td>4</td>\n",
       "      <td>0</td>\n",
       "      <td>0</td>\n",
       "      <td>0</td>\n",
       "      <td>4.000000</td>\n",
       "      <td>3</td>\n",
       "    </tr>\n",
       "    <tr>\n",
       "      <th>4</th>\n",
       "      <td>3</td>\n",
       "      <td>3</td>\n",
       "      <td>0</td>\n",
       "      <td>0</td>\n",
       "      <td>4.242641</td>\n",
       "      <td>4</td>\n",
       "    </tr>\n",
       "    <tr>\n",
       "      <th>5</th>\n",
       "      <td>0</td>\n",
       "      <td>5</td>\n",
       "      <td>0</td>\n",
       "      <td>0</td>\n",
       "      <td>5.000000</td>\n",
       "      <td>5</td>\n",
       "    </tr>\n",
       "  </tbody>\n",
       "</table>\n",
       "</div>"
      ],
      "text/plain": [
       "   X  Y  ref_x  ref_y  distance  Rank\n",
       "1  0  3      0      0  3.000000     1\n",
       "2  3  0      0      0  3.000000     2\n",
       "3  4  0      0      0  4.000000     3\n",
       "4  3  3      0      0  4.242641     4\n",
       "5  0  5      0      0  5.000000     5"
      ]
     },
     "execution_count": 1,
     "metadata": {},
     "output_type": "execute_result"
    }
   ],
   "source": [
    "points=[(0,3), (3,0), (3,3), (4,0), (0,5)]\n",
    "Q=(0,0)\n",
    "k=4\n",
    "\n",
    "import pandas as pd\n",
    "\n",
    "data=pd.DataFrame(points,columns=['X','Y'])\n",
    "data[\"ref_x\"]= Q[0]\n",
    "data[\"ref_y\"]= Q[1]\n",
    "data[\"distance\"]=0\n",
    "data[\"Rank\"]=0\n",
    "data[\"distance\"]=((data[\"ref_x\"]-data[\"X\"])**2+(data[\"ref_y\"]-data[\"Y\"])**2)**0.5\n",
    "data=data.sort_values(by=['distance'],ascending=[True])\n",
    "data.index=list(range(1,data.shape[0]+1))\n",
    "data[\"Rank\"]=list(range(1,data.shape[0]+1))\n",
    "for x in range(data.shape[0]):\n",
    "  if data.iloc[x][5]==float(k):\n",
    "    print(data.iloc[x][0],data.iloc[x][1])\n",
    "\n",
    "data"
   ]
  },
  {
   "cell_type": "code",
   "execution_count": 2,
   "metadata": {},
   "outputs": [
    {
     "data": {
      "text/plain": [
       "'2.2.2'"
      ]
     },
     "execution_count": 2,
     "metadata": {},
     "output_type": "execute_result"
    }
   ],
   "source": [
    "pd.__version__"
   ]
  },
  {
   "cell_type": "markdown",
   "metadata": {
    "id": "JEzQGXVzuiwh"
   },
   "source": [
    "# Text filltering Row"
   ]
  },
  {
   "cell_type": "code",
   "execution_count": 3,
   "metadata": {
    "id": "C3EfNmDQui9z"
   },
   "outputs": [
    {
     "name": "stdout",
     "output_type": "stream",
     "text": [
      "['abecd1', 'ab1er', 'yt4ij', 'gh15ghk', '7jut3']\n",
      "['abecd1', 'drfegt', 'common', 'gh15ghk']\n",
      "      Text\n",
      "0     abcd\n",
      "1      sdt\n",
      "2   abecd1\n",
      "3      vbr\n",
      "4    ab1er\n",
      "5   drfegt\n",
      "6   common\n",
      "7    yt4ij\n",
      "8  gh15ghk\n",
      "9    7jut3\n"
     ]
    }
   ],
   "source": [
    "import pandas as pd\n",
    "\n",
    "text_df = pd.read_excel('input.xlsx')\n",
    "texts=text_df['Text']\n",
    "num_text=[]\n",
    "more_5=[d for d in texts if len(d)>5]\n",
    "for text in texts:\n",
    "  for char in text:\n",
    "    if char.isdigit():\n",
    "      num_text.append(text)\n",
    "      break\n",
    "\n",
    "print(num_text)\n",
    "print(more_5)\n",
    "print(text_df)"
   ]
  },
  {
   "cell_type": "markdown",
   "metadata": {
    "id": "_U17Zck1ujRE"
   },
   "source": [
    "# Filling \"_\" problem"
   ]
  },
  {
   "cell_type": "code",
   "execution_count": 4,
   "metadata": {
    "id": "1f7Pb9fZujdW"
   },
   "outputs": [
    {
     "name": "stdout",
     "output_type": "stream",
     "text": [
      "[0.8, 0.8, 0.8, 0.8, 1.3, 1.3, 1.3, 1.3, 1.3, 0.5]\n"
     ]
    }
   ],
   "source": [
    "srt=[x for x in '____1___1_']\n",
    "\n",
    "def find_fill(left):\n",
    "  fill=[]\n",
    "  for x in range(len(srt)):\n",
    "    count=1+x\n",
    "    if srt[x]!='_':\n",
    "      fill.append(x)\n",
    "  return fill\n",
    "\n",
    "def fill_leftright(fill):\n",
    "    temp1=int(srt[fill[1]])\n",
    "    temp2=len(srt)-fill[1]\n",
    "\n",
    "    for x in range(fill[0]+1):\n",
    "      srt[x]=fill[0]/(fill[0]+1)\n",
    "\n",
    "    for y in range(fill[1],len(srt)):\n",
    "      srt[y]= temp1/temp2\n",
    "\n",
    "    temp3=srt[fill[0]]+srt[fill[1]]\n",
    "    for z in range(fill[0],fill[1]+1):\n",
    "      srt[z]=temp3\n",
    "\n",
    "\n",
    "find_fill=find_fill(str)\n",
    "fill_leftright(find_fill)\n",
    "print(srt)"
   ]
  },
  {
   "cell_type": "code",
   "execution_count": null,
   "metadata": {},
   "outputs": [],
   "source": []
  }
 ],
 "metadata": {
  "colab": {
   "authorship_tag": "ABX9TyOTrvIYJjJ0H6A2BWA5JI8a",
   "mount_file_id": "1dYdY_cyeHb9cB-lLn3akWSQeTdwNfSNA",
   "private_outputs": true,
   "provenance": []
  },
  "kernelspec": {
   "display_name": "Python 3 (ipykernel)",
   "language": "python",
   "name": "python3"
  },
  "language_info": {
   "codemirror_mode": {
    "name": "ipython",
    "version": 3
   },
   "file_extension": ".py",
   "mimetype": "text/x-python",
   "name": "python",
   "nbconvert_exporter": "python",
   "pygments_lexer": "ipython3",
   "version": "3.11.7"
  }
 },
 "nbformat": 4,
 "nbformat_minor": 4
}
