{
 "cells": [
  {
   "cell_type": "markdown",
   "metadata": {
    "id": "zailXBN2Nleh"
   },
   "source": [
    "# Edit pdf\n",
    "  Here my refrance open existing pdf and edit pdf file and save **Result.pdf**"
   ]
  },
  {
   "cell_type": "code",
   "execution_count": 1,
   "metadata": {
    "colab": {
     "base_uri": "https://localhost:8080/"
    },
    "executionInfo": {
     "elapsed": 37807,
     "status": "ok",
     "timestamp": 1715061735543,
     "user": {
      "displayName": "poomalai K",
      "userId": "10459400666516593639"
     },
     "user_tz": -330
    },
    "id": "eRcZOJBJBxta",
    "outputId": "079cdfe3-fa42-4cad-e2f4-4e78f03dd436"
   },
   "outputs": [
    {
     "name": "stdout",
     "output_type": "stream",
     "text": [
      "Requirement already satisfied: PyPDF2 in /opt/anaconda3/lib/python3.11/site-packages (3.0.1)\n",
      "Requirement already satisfied: pypdf in /opt/anaconda3/lib/python3.11/site-packages (4.2.0)\n",
      "Requirement already satisfied: reportlab in /opt/anaconda3/lib/python3.11/site-packages (4.2.0)\n",
      "Requirement already satisfied: pillow>=9.0.0 in /opt/anaconda3/lib/python3.11/site-packages (from reportlab) (10.2.0)\n",
      "Requirement already satisfied: chardet in /opt/anaconda3/lib/python3.11/site-packages (from reportlab) (4.0.0)\n"
     ]
    }
   ],
   "source": [
    "!pip install PyPDF2\n",
    "!pip install pypdf\n",
    "!pip install reportlab"
   ]
  },
  {
   "cell_type": "code",
   "execution_count": 4,
   "metadata": {
    "executionInfo": {
     "elapsed": 8,
     "status": "ok",
     "timestamp": 1715061735543,
     "user": {
      "displayName": "poomalai K",
      "userId": "10459400666516593639"
     },
     "user_tz": -330
    },
    "id": "ysdFFvRthlaS"
   },
   "outputs": [],
   "source": [
    "import io\n",
    "from PyPDF2 import PdfReader, PdfWriter\n",
    "from reportlab.pdfgen import canvas\n",
    "\n",
    "def convert():\n",
    "  with open('poomalai AI.pdf', 'rb') as input_file:\n",
    "    reader = PdfReader(input_file)\n",
    "    writer = PdfWriter()\n",
    "\n",
    "    page = reader.pages[0]\n",
    "\n",
    "    packet = io.BytesIO()\n",
    "    can = canvas.Canvas(packet)\n",
    "\n",
    "    can.drawString(350, 660, \"First text \")\n",
    "    can.drawString(350, 628, \"Second text\")\n",
    "    can.save()\n",
    "\n",
    "    packet.seek(0)\n",
    "\n",
    "    new_pdf = PdfReader(packet)\n",
    "    page.merge_page(new_pdf.pages[0])\n",
    "\n",
    "    writer.add_page(page)\n",
    "\n",
    "    with open(\"Result.pdf\", 'wb') as output_file:\n",
    "      writer.write(output_file)\n",
    "\n",
    "if __name__ == \"__main__\":\n",
    "    convert()\n"
   ]
  },
  {
   "cell_type": "code",
   "execution_count": 5,
   "metadata": {
    "colab": {
     "base_uri": "https://localhost:8080/"
    },
    "executionInfo": {
     "elapsed": 26776,
     "status": "ok",
     "timestamp": 1715061762313,
     "user": {
      "displayName": "poomalai K",
      "userId": "10459400666516593639"
     },
     "user_tz": -330
    },
    "id": "UPlFXoYlaIWl",
    "outputId": "659621f1-024f-4c3c-a588-17d452f5835a"
   },
   "outputs": [
    {
     "name": "stdout",
     "output_type": "stream",
     "text": [
      "Collecting pdfminer.six\n",
      "  Downloading pdfminer.six-20231228-py3-none-any.whl.metadata (4.2 kB)\n",
      "Requirement already satisfied: charset-normalizer>=2.0.0 in /opt/anaconda3/lib/python3.11/site-packages (from pdfminer.six) (2.0.4)\n",
      "Requirement already satisfied: cryptography>=36.0.0 in /opt/anaconda3/lib/python3.11/site-packages (from pdfminer.six) (42.0.2)\n",
      "Requirement already satisfied: cffi>=1.12 in /opt/anaconda3/lib/python3.11/site-packages (from cryptography>=36.0.0->pdfminer.six) (1.16.0)\n",
      "Requirement already satisfied: pycparser in /opt/anaconda3/lib/python3.11/site-packages (from cffi>=1.12->cryptography>=36.0.0->pdfminer.six) (2.21)\n",
      "Downloading pdfminer.six-20231228-py3-none-any.whl (5.6 MB)\n",
      "\u001b[2K   \u001b[90m━━━━━━━━━━━━━━━━━━━━━━━━━━━━━━━━━━━━━━━━\u001b[0m \u001b[32m5.6/5.6 MB\u001b[0m \u001b[31m3.5 MB/s\u001b[0m eta \u001b[36m0:00:00\u001b[0m00:01\u001b[0m00:01\u001b[0m\n",
      "\u001b[?25hInstalling collected packages: pdfminer.six\n",
      "Successfully installed pdfminer.six-20231228\n",
      "Collecting tabula-py\n",
      "  Downloading tabula_py-2.9.3-py3-none-any.whl.metadata (7.6 kB)\n",
      "Requirement already satisfied: pandas>=0.25.3 in /opt/anaconda3/lib/python3.11/site-packages (from tabula-py) (2.2.2)\n",
      "Requirement already satisfied: numpy in /opt/anaconda3/lib/python3.11/site-packages (from tabula-py) (1.26.4)\n",
      "Requirement already satisfied: distro in /opt/anaconda3/lib/python3.11/site-packages (from tabula-py) (1.8.0)\n",
      "Requirement already satisfied: python-dateutil>=2.8.2 in /opt/anaconda3/lib/python3.11/site-packages (from pandas>=0.25.3->tabula-py) (2.8.2)\n",
      "Requirement already satisfied: pytz>=2020.1 in /opt/anaconda3/lib/python3.11/site-packages (from pandas>=0.25.3->tabula-py) (2023.3.post1)\n",
      "Requirement already satisfied: tzdata>=2022.7 in /opt/anaconda3/lib/python3.11/site-packages (from pandas>=0.25.3->tabula-py) (2023.3)\n",
      "Requirement already satisfied: six>=1.5 in /opt/anaconda3/lib/python3.11/site-packages (from python-dateutil>=2.8.2->pandas>=0.25.3->tabula-py) (1.16.0)\n",
      "Downloading tabula_py-2.9.3-py3-none-any.whl (12.0 MB)\n",
      "\u001b[2K   \u001b[90m━━━━━━━━━━━━━━━━━━━━━━━━━━━━━━━━━━━━━━━━\u001b[0m \u001b[32m12.0/12.0 MB\u001b[0m \u001b[31m9.3 MB/s\u001b[0m eta \u001b[36m0:00:00\u001b[0m00:01\u001b[0m00:01\u001b[0m\n",
      "\u001b[?25hInstalling collected packages: tabula-py\n",
      "Successfully installed tabula-py-2.9.3\n"
     ]
    }
   ],
   "source": [
    "!pip install pdfminer.six\n",
    "!pip install tabula-py\n"
   ]
  },
  {
   "cell_type": "code",
   "execution_count": 29,
   "metadata": {
    "colab": {
     "base_uri": "https://localhost:8080/"
    },
    "executionInfo": {
     "elapsed": 12,
     "status": "ok",
     "timestamp": 1715061762313,
     "user": {
      "displayName": "poomalai K",
      "userId": "10459400666516593639"
     },
     "user_tz": -330
    },
    "id": "Ty5usZ1GaIY-",
    "outputId": "ff813833-a9e1-4fa1-a3b3-266a05410e42"
   },
   "outputs": [
    {
     "name": "stdout",
     "output_type": "stream",
     "text": [
      "<LTTextBoxHorizontal(0) 220.630,689.380,374.072,713.860 'AUDIT REPORT \\n'>\n",
      "<LTTextBoxHorizontal(1) 217.510,660.250,283.117,675.370 'Audit Title \\n'>\n",
      "<LTTextBoxHorizontal(2) 217.510,629.290,269.197,644.410 'Audit ID \\n'>\n",
      "<LTTextBoxHorizontal(3) 217.510,598.330,291.277,613.450 'Audit Dates \\n'>\n",
      "<LTTextBoxHorizontal(4) 219.670,567.350,292.237,582.470 'Audit Team \\n'>\n",
      "<LTTextBoxHorizontal(5) 226.420,536.150,310.140,552.744 'Audit Target   \\n'>\n",
      "<LTTextBoxHorizontal(6) 212.950,505.190,310.140,521.544 'Audit Location   \\n'>\n",
      "<LTTextBoxHorizontal(7) 66.984,445.400,130.968,460.520 'Response: \\n'>\n",
      "<LTTextBoxHorizontal(8) 78.024,389.460,181.327,441.800 'Response \\npublication Date \\nStatus \\n'>\n",
      "<LTTextBoxHorizontal(9) 72.024,311.440,197.887,326.560 'Executive Summary: \\n'>\n",
      "<LTTextBoxHorizontal(10) 311.880,371.460,415.375,441.800 'Response/ CAPA \\nDue to QA by \\nDistribution of \\nobservation \\n'>\n",
      "<LTRect 72.024,678.460,72.504,678.940>\n",
      "<LTRect 72.024,678.460,72.504,678.940>\n",
      "<LTRect 72.504,678.460,305.884,678.940>\n",
      "<LTRect 305.880,678.460,306.360,678.940>\n",
      "<LTRect 306.360,678.460,539.710,678.940>\n",
      "<LTRect 539.710,678.460,540.190,678.940>\n",
      "<LTRect 539.710,678.460,540.190,678.940>\n",
      "<LTRect 72.024,647.950,72.504,678.454>\n",
      "<LTRect 305.880,647.950,306.360,678.454>\n",
      "<LTRect 539.710,647.950,540.190,678.454>\n",
      "<LTRect 72.024,647.470,72.504,647.950>\n",
      "<LTRect 72.504,647.470,305.884,647.950>\n",
      "<LTRect 305.880,647.470,306.360,647.950>\n",
      "<LTRect 306.360,647.470,539.710,647.950>\n",
      "<LTRect 539.710,647.470,540.190,647.950>\n",
      "<LTRect 72.024,616.990,72.504,647.470>\n",
      "<LTRect 305.880,616.990,306.360,647.470>\n",
      "<LTRect 539.710,616.990,540.190,647.470>\n",
      "<LTRect 72.024,616.510,72.504,616.990>\n",
      "<LTRect 72.504,616.510,305.884,616.990>\n",
      "<LTRect 305.880,616.510,306.360,616.990>\n",
      "<LTRect 306.360,616.510,539.710,616.990>\n",
      "<LTRect 539.710,616.510,540.190,616.990>\n",
      "<LTRect 72.024,586.030,72.504,616.510>\n",
      "<LTRect 305.880,586.030,306.360,616.510>\n",
      "<LTRect 539.710,586.030,540.190,616.510>\n",
      "<LTRect 72.024,585.550,72.504,586.030>\n",
      "<LTRect 72.504,585.550,305.884,586.030>\n",
      "<LTRect 305.880,585.550,306.360,586.030>\n",
      "<LTRect 306.360,585.550,539.710,586.030>\n",
      "<LTRect 539.710,585.550,540.190,586.030>\n",
      "<LTRect 72.024,555.050,72.504,585.554>\n",
      "<LTRect 305.880,555.050,306.360,585.554>\n",
      "<LTRect 539.710,555.050,540.190,585.554>\n",
      "<LTRect 72.024,554.570,72.504,555.050>\n",
      "<LTRect 72.504,554.570,305.884,555.050>\n",
      "<LTRect 305.880,554.570,306.360,555.050>\n",
      "<LTRect 306.360,554.570,539.710,555.050>\n",
      "<LTRect 539.710,554.570,540.190,555.050>\n",
      "<LTRect 72.024,523.850,72.504,554.570>\n",
      "<LTRect 305.880,523.850,306.360,554.570>\n",
      "<LTRect 539.710,523.850,540.190,554.570>\n",
      "<LTRect 72.024,523.370,72.504,523.850>\n",
      "<LTRect 72.504,523.370,305.884,523.850>\n",
      "<LTRect 305.880,523.370,306.360,523.850>\n",
      "<LTRect 306.360,523.370,539.710,523.850>\n",
      "<LTRect 539.710,523.370,540.190,523.850>\n",
      "<LTRect 72.024,492.860,72.504,523.364>\n",
      "<LTRect 72.024,492.380,72.504,492.860>\n",
      "<LTRect 72.024,492.380,72.504,492.860>\n",
      "<LTRect 72.504,492.380,305.884,492.860>\n",
      "<LTRect 305.880,492.860,306.360,523.364>\n",
      "<LTRect 305.880,492.380,306.360,492.860>\n",
      "<LTRect 306.360,492.380,539.710,492.860>\n",
      "<LTRect 539.710,492.860,540.190,523.364>\n",
      "<LTRect 539.710,492.380,540.190,492.860>\n",
      "<LTRect 539.710,492.380,540.190,492.860>\n",
      "<LTRect 72.024,444.620,72.504,445.100>\n",
      "<LTRect 72.024,444.620,72.504,445.100>\n",
      "<LTRect 72.504,444.620,188.714,445.100>\n",
      "<LTRect 188.710,444.620,189.190,445.100>\n",
      "<LTRect 189.190,444.620,305.880,445.100>\n",
      "<LTRect 305.880,444.620,306.360,445.100>\n",
      "<LTRect 306.360,444.620,423.050,445.100>\n",
      "<LTRect 423.050,444.620,423.530,445.100>\n",
      "<LTRect 423.530,444.620,539.710,445.100>\n",
      "<LTRect 539.710,444.620,540.190,445.100>\n",
      "<LTRect 539.710,444.620,540.190,445.100>\n",
      "<LTRect 72.024,407.880,72.504,444.624>\n",
      "<LTRect 188.710,407.880,189.190,444.624>\n",
      "<LTRect 305.880,407.880,306.360,444.624>\n",
      "<LTRect 423.050,407.880,423.530,444.624>\n",
      "<LTRect 539.710,407.880,540.190,444.624>\n",
      "<LTRect 72.024,407.400,72.504,407.880>\n",
      "<LTRect 72.504,407.400,188.714,407.880>\n",
      "<LTRect 188.710,407.400,189.190,407.880>\n",
      "<LTRect 189.190,407.400,305.880,407.880>\n",
      "<LTRect 305.880,407.400,306.360,407.880>\n",
      "<LTRect 306.360,407.400,423.050,407.880>\n",
      "<LTRect 423.050,407.400,423.530,407.880>\n",
      "<LTRect 423.530,407.400,539.710,407.880>\n",
      "<LTRect 539.710,407.400,540.190,407.880>\n",
      "<LTRect 72.024,370.920,72.504,407.400>\n",
      "<LTRect 72.024,370.440,72.504,370.920>\n",
      "<LTRect 72.024,370.440,72.504,370.920>\n",
      "<LTRect 72.504,370.440,188.714,370.920>\n",
      "<LTRect 188.710,370.920,189.190,407.400>\n",
      "<LTRect 188.710,370.440,189.190,370.920>\n",
      "<LTRect 189.190,370.440,305.880,370.920>\n",
      "<LTRect 305.880,370.920,306.360,407.400>\n",
      "<LTRect 305.880,370.440,306.360,370.920>\n",
      "<LTRect 306.360,370.440,423.050,370.920>\n",
      "<LTRect 423.050,370.920,423.530,407.400>\n",
      "<LTRect 423.050,370.440,423.530,370.920>\n",
      "<LTRect 423.530,370.440,539.710,370.920>\n",
      "<LTRect 539.710,370.920,540.190,407.400>\n",
      "<LTRect 539.710,370.440,540.190,370.920>\n",
      "<LTRect 539.710,370.440,540.190,370.920>\n",
      "<LTCurve 72.000,73.904,72.359,301.900>\n",
      "<LTRect 72.360,73.904,539.570,74.264>\n",
      "<LTRect 72.360,301.540,539.570,301.900>\n",
      "<LTCurve 539.570,73.904,539.930,301.900>\n",
      "<LTTextLineHorizontal 66.984,679.000,68.882,687.400 ' \\n'>\n",
      "<LTTextLineHorizontal 306.360,661.484,310.140,676.604 ' \\n'>\n",
      "<LTTextLineHorizontal 306.360,630.524,310.140,645.644 ' \\n'>\n",
      "<LTTextLineHorizontal 306.360,599.564,310.140,614.684 ' \\n'>\n",
      "<LTTextLineHorizontal 306.360,568.584,310.140,583.704 ' \\n'>\n",
      "<LTTextLineHorizontal 66.984,480.260,69.262,490.340 ' \\n'>\n",
      "<LTTextLineHorizontal 66.984,468.020,69.262,478.100 ' \\n'>\n",
      "<LTTextLineHorizontal 189.190,427.674,192.970,442.794 ' \\n'>\n",
      "<LTTextLineHorizontal 423.530,427.674,427.310,442.794 ' \\n'>\n",
      "<LTTextLineHorizontal 189.190,390.454,192.970,405.574 ' \\n'>\n",
      "<LTTextLineHorizontal 423.530,390.454,427.310,405.574 ' \\n'>\n",
      "<LTTextLineHorizontal 66.984,352.500,70.401,367.620 ' \\n'>\n",
      "<LTTextLineHorizontal 66.984,329.680,70.401,344.800 ' \\n'>\n",
      "<LTTextLineHorizontal 66.984,303.040,68.448,309.520 ' \\n'>\n",
      "\n",
      "\n",
      "<LTTextBoxHorizontal(0) 72.024,701.800,246.877,716.920 'Description of Observations: \\n'>\n",
      "<LTTextBoxHorizontal(1) 78.024,617.290,214.447,689.320 'Issue ID \\nGXP \\nSector \\nResponsible of Person \\n'>\n",
      "<LTTextBoxHorizontal(2) 78.024,561.590,213.967,595.670 'Compliance Topic \\nCompliance Sub Topic \\n'>\n",
      "<LTTextBoxHorizontal(3) 66.984,526.790,146.568,541.910 'Observation: \\n'>\n",
      "<LTTextBoxHorizontal(4) 311.880,654.970,421.637,689.320 'Rating \\nFinding Affiliation \\n'>\n",
      "<LTTextBoxHorizontal(5) 311.880,599.290,443.267,632.410 'Internal Key Contract \\nCAPA Champion \\n'>\n",
      "<LTTextBoxHorizontal(6) 72.504,250.720,152.987,267.314 '  References: \\n'>\n",
      "<LTRect 72.024,691.660,72.504,692.140>\n",
      "<LTRect 72.024,691.660,72.504,692.140>\n",
      "<LTRect 72.504,691.660,305.884,692.140>\n",
      "<LTRect 305.880,691.660,306.360,692.140>\n",
      "<LTRect 306.360,691.660,539.710,692.140>\n",
      "<LTRect 539.710,691.660,540.190,692.140>\n",
      "<LTRect 539.710,691.660,540.190,692.140>\n",
      "<LTRect 72.024,673.420,72.504,691.660>\n",
      "<LTRect 305.880,673.420,306.360,691.660>\n",
      "<LTRect 539.710,673.420,540.190,691.660>\n",
      "<LTRect 72.024,672.940,72.504,673.420>\n",
      "<LTRect 72.504,672.940,305.884,673.420>\n",
      "<LTRect 305.880,672.940,306.360,673.420>\n",
      "<LTRect 306.360,672.940,539.710,673.420>\n",
      "<LTRect 539.710,672.940,540.190,673.420>\n",
      "<LTRect 72.024,654.430,72.504,672.934>\n",
      "<LTRect 305.880,654.430,306.360,672.934>\n",
      "<LTRect 539.710,654.430,540.190,672.934>\n",
      "<LTRect 72.024,653.950,72.504,654.430>\n",
      "<LTRect 72.504,653.950,305.884,654.430>\n",
      "<LTRect 305.880,653.950,306.360,654.430>\n",
      "<LTRect 306.360,653.950,539.710,654.430>\n",
      "<LTRect 539.710,653.950,540.190,654.430>\n",
      "<LTRect 72.024,635.710,72.504,653.950>\n",
      "<LTRect 305.880,635.710,306.360,653.950>\n",
      "<LTRect 539.710,635.710,540.190,653.950>\n",
      "<LTRect 72.024,635.230,72.504,635.710>\n",
      "<LTRect 72.504,635.230,305.884,635.710>\n",
      "<LTRect 305.880,635.230,306.360,635.710>\n",
      "<LTRect 306.360,635.230,539.710,635.710>\n",
      "<LTRect 539.710,635.230,540.190,635.710>\n",
      "<LTRect 72.024,598.750,72.504,635.230>\n",
      "<LTRect 305.880,598.750,306.360,635.230>\n",
      "<LTRect 539.710,598.750,540.190,635.230>\n",
      "<LTRect 72.024,598.270,72.504,598.750>\n",
      "<LTRect 72.504,598.270,305.884,598.750>\n",
      "<LTRect 305.880,598.270,306.360,598.750>\n",
      "<LTRect 306.360,598.270,539.710,598.750>\n",
      "<LTRect 539.710,598.270,540.190,598.750>\n",
      "<LTRect 72.024,580.010,72.504,598.274>\n",
      "<LTRect 305.880,580.010,306.360,598.274>\n",
      "<LTRect 539.710,580.010,540.190,598.274>\n",
      "<LTRect 72.024,579.530,72.504,580.010>\n",
      "<LTRect 72.504,579.530,305.884,580.010>\n",
      "<LTRect 305.880,579.530,306.360,580.010>\n",
      "<LTRect 306.360,579.530,539.710,580.010>\n",
      "<LTRect 539.710,579.530,540.190,580.010>\n",
      "<LTRect 72.024,560.810,72.504,579.530>\n",
      "<LTRect 72.024,560.330,72.504,560.810>\n",
      "<LTRect 72.024,560.330,72.504,560.810>\n",
      "<LTRect 72.504,560.330,305.884,560.810>\n",
      "<LTRect 305.880,560.810,306.360,579.530>\n",
      "<LTRect 305.880,560.330,306.360,560.810>\n",
      "<LTRect 306.360,560.330,539.710,560.810>\n",
      "<LTRect 539.710,560.810,540.190,579.530>\n",
      "<LTRect 539.710,560.330,540.190,560.810>\n",
      "<LTRect 539.710,560.330,540.190,560.810>\n",
      "<LTRect 72.024,526.010,72.504,526.490>\n",
      "<LTRect 72.024,526.010,72.504,526.490>\n",
      "<LTRect 72.504,526.010,540.194,526.490>\n",
      "<LTRect 540.190,526.010,540.670,526.490>\n",
      "<LTRect 540.190,526.010,540.670,526.490>\n",
      "<LTRect 72.024,269.620,72.504,526.010>\n",
      "<LTRect 540.190,269.620,540.670,526.010>\n",
      "<LTRect 72.024,269.140,72.504,269.620>\n",
      "<LTRect 72.504,269.140,73.464,269.620>\n",
      "<LTRect 73.464,269.140,73.944,269.620>\n",
      "<LTRect 73.944,269.140,540.194,269.620>\n",
      "<LTRect 540.190,269.140,540.670,269.620>\n",
      "<LTRect 72.024,88.608,72.504,269.138>\n",
      "<LTRect 72.024,88.128,72.504,88.608>\n",
      "<LTRect 72.024,88.128,72.504,88.608>\n",
      "<LTRect 72.504,88.128,73.464,88.608>\n",
      "<LTRect 73.464,88.608,73.944,269.138>\n",
      "<LTRect 73.464,88.128,73.944,88.608>\n",
      "<LTRect 73.464,88.128,73.944,88.608>\n",
      "<LTRect 73.944,87.168,540.194,87.648>\n",
      "<LTRect 73.944,88.128,540.194,88.608>\n",
      "<LTRect 540.190,88.608,540.670,269.138>\n",
      "<LTRect 540.190,88.128,540.670,88.608>\n",
      "<LTRect 540.190,87.168,540.670,87.648>\n",
      "<LTTextLineHorizontal 66.984,692.200,68.665,699.640 ' \\n'>\n",
      "<LTTextLineHorizontal 306.360,638.223,309.840,652.143 ' \\n'>\n",
      "<LTTextLineHorizontal 306.360,582.283,309.840,596.203 ' \\n'>\n",
      "<LTTextLineHorizontal 306.360,563.803,309.840,577.723 ' \\n'>\n",
      "<LTTextLineHorizontal 66.984,548.210,69.262,558.290 ' \\n'>\n",
      "<LTTextLineHorizontal 78.024,508.070,81.441,523.190 ' \\n'>\n",
      "\n",
      "\n",
      "<LTTextBoxHorizontal(0) 72.024,701.800,185.887,716.920 'Publishing Details: \\n'>\n",
      "<LTTextBoxHorizontal(1) 78.024,654.970,203.887,689.320 'Report Published by \\nReport Published on \\n'>\n",
      "<LTRect 72.024,691.660,72.504,692.140>\n",
      "<LTRect 72.024,691.660,72.504,692.140>\n",
      "<LTRect 72.504,691.660,305.884,692.140>\n",
      "<LTRect 305.880,691.660,306.360,692.140>\n",
      "<LTRect 306.360,691.660,539.710,692.140>\n",
      "<LTRect 539.710,691.660,540.190,692.140>\n",
      "<LTRect 539.710,691.660,540.190,692.140>\n",
      "<LTRect 72.024,673.420,72.504,691.660>\n",
      "<LTRect 305.880,673.420,306.360,691.660>\n",
      "<LTRect 539.710,673.420,540.190,691.660>\n",
      "<LTRect 72.024,672.940,72.504,673.420>\n",
      "<LTRect 72.504,672.940,305.884,673.420>\n",
      "<LTRect 305.880,672.940,306.360,673.420>\n",
      "<LTRect 306.360,672.940,539.710,673.420>\n",
      "<LTRect 539.710,672.940,540.190,673.420>\n",
      "<LTRect 72.024,654.430,72.504,672.934>\n",
      "<LTRect 72.024,653.950,72.504,654.430>\n",
      "<LTRect 72.024,653.950,72.504,654.430>\n",
      "<LTRect 72.504,653.950,305.884,654.430>\n",
      "<LTRect 305.880,654.430,306.360,672.934>\n",
      "<LTRect 305.880,653.950,306.360,654.430>\n",
      "<LTRect 306.360,653.950,539.710,654.430>\n",
      "<LTRect 539.710,654.430,540.190,672.934>\n",
      "<LTRect 539.710,653.950,540.190,654.430>\n",
      "<LTRect 539.710,653.950,540.190,654.430>\n",
      "<LTTextLineHorizontal 66.984,692.200,68.665,699.640 ' \\n'>\n",
      "<LTTextLineHorizontal 306.360,675.933,309.840,689.853 ' \\n'>\n",
      "<LTTextLineHorizontal 306.360,657.183,309.840,671.103 ' \\n'>\n",
      "<LTTextLineHorizontal 66.984,640.630,69.479,651.670 ' \\n'>\n",
      "\n",
      "\n"
     ]
    }
   ],
   "source": [
    "from pdfminer.high_level import extract_pages,extract_text\n",
    "\n",
    "path='/content/drive/MyDrive/dsp/Rudhra Info Solution/Data set/audit template ful.pdf'\n",
    "for page in extract_pages(path):\n",
    "  for element in page:\n",
    "    print(element)\n",
    "  print(\"\\n\")"
   ]
  },
  {
   "cell_type": "code",
   "execution_count": 30,
   "metadata": {
    "colab": {
     "base_uri": "https://localhost:8080/"
    },
    "executionInfo": {
     "elapsed": 8,
     "status": "ok",
     "timestamp": 1715061762313,
     "user": {
      "displayName": "poomalai K",
      "userId": "10459400666516593639"
     },
     "user_tz": -330
    },
    "id": "EvA7acImrYxj",
    "outputId": "f5044b94-4e17-475b-f3c8-e8758b02da20"
   },
   "outputs": [
    {
     "name": "stdout",
     "output_type": "stream",
     "text": [
      "['AUDIT REPORT ', '', 'Audit Title ', '', 'Audit ID ', '', 'Audit Dates ', '', 'Audit Team ', '', 'Audit Target   ', '', 'Audit Location   ', '', 'Response: ', '', 'Response ', 'publication Date ', 'Status ', '', 'Executive Summary: ', '', 'Response/ CAPA ', 'Due to QA by ', 'Distribution of ', 'observation ', '', ' ', ' ', ' ', ' ', ' ', ' ', ' ', ' ', ' ', ' ', ' ', ' ', ' ', ' ', '', 'Description of Observations: ', '', 'Issue ID ', 'GXP ', 'Sector ', 'Responsible of Person ', '', 'Compliance Topic ', 'Compliance Sub Topic ', '', 'Observation: ', '', 'Rating ', 'Finding Affiliation ', '', 'Internal Key Contract ', 'CAPA Champion ', '', '  References: ', '', ' ', ' ', ' ', ' ', ' ', ' ', '', 'Publishing Details: ', '', 'Report Published by ', 'Report Published on ', '', ' ', ' ', ' ', ' ', '']\n"
     ]
    }
   ],
   "source": [
    "text=extract_text(path)\n",
    "# print(type(text))\n",
    "print(text.splitlines())"
   ]
  },
  {
   "cell_type": "code",
   "execution_count": 6,
   "metadata": {
    "colab": {
     "base_uri": "https://localhost:8080/"
    },
    "executionInfo": {
     "elapsed": 15,
     "status": "ok",
     "timestamp": 1715061765179,
     "user": {
      "displayName": "poomalai K",
      "userId": "10459400666516593639"
     },
     "user_tz": -330
    },
    "id": "mQ-4pPZ0aIfY",
    "outputId": "4b60017f-ad99-47e2-aed9-d868686e6bab"
   },
   "outputs": [
    {
     "ename": "NameError",
     "evalue": "name 'path' is not defined",
     "output_type": "error",
     "traceback": [
      "\u001b[0;31m---------------------------------------------------------------------------\u001b[0m",
      "\u001b[0;31mNameError\u001b[0m                                 Traceback (most recent call last)",
      "Cell \u001b[0;32mIn[6], line 3\u001b[0m\n\u001b[1;32m      1\u001b[0m \u001b[38;5;28;01mimport\u001b[39;00m \u001b[38;5;21;01mtabula\u001b[39;00m\n\u001b[0;32m----> 3\u001b[0m table\u001b[38;5;241m=\u001b[39m tabula\u001b[38;5;241m.\u001b[39mread_pdf(path, pages\u001b[38;5;241m=\u001b[39m\u001b[38;5;124m'\u001b[39m\u001b[38;5;124mall\u001b[39m\u001b[38;5;124m'\u001b[39m)\n\u001b[1;32m      4\u001b[0m \u001b[38;5;28mprint\u001b[39m(table)\n",
      "\u001b[0;31mNameError\u001b[0m: name 'path' is not defined"
     ]
    }
   ],
   "source": [
    "import tabula\n",
    "\n",
    "table= tabula.read_pdf(path, pages='all')\n",
    "print(table)"
   ]
  },
  {
   "cell_type": "code",
   "execution_count": 32,
   "metadata": {
    "executionInfo": {
     "elapsed": 13,
     "status": "ok",
     "timestamp": 1715061765179,
     "user": {
      "displayName": "poomalai K",
      "userId": "10459400666516593639"
     },
     "user_tz": -330
    },
    "id": "vkWdkorQaIhp"
   },
   "outputs": [],
   "source": [
    "import PyPDF2\n",
    "\n",
    "def extract_text(pdf_path):\n",
    "  text = \"\"\n",
    "  with open(pdf_path, 'rb') as file:\n",
    "    reader = PyPDF2.PdfReader(file)\n",
    "    num_pages = len(reader.pages)\n",
    "    for page_num in range(num_pages):\n",
    "      page = reader.pages[page_num]\n",
    "      text += page.extract_text()\n",
    "  return text"
   ]
  },
  {
   "cell_type": "code",
   "execution_count": 33,
   "metadata": {
    "executionInfo": {
     "elapsed": 13,
     "status": "ok",
     "timestamp": 1715061765180,
     "user": {
      "displayName": "poomalai K",
      "userId": "10459400666516593639"
     },
     "user_tz": -330
    },
    "id": "IH-clkQyaIj2"
   },
   "outputs": [],
   "source": [
    "def get_text(data):\n",
    "  texts=[]\n",
    "  num=[]\n",
    "  result=[]\n",
    "  temp=[]\n",
    "  data=data.splitlines()\n",
    "  for line in range(len(data)):\n",
    "    if data[line] !=' ':\n",
    "      texts.append(data[line].strip())\n",
    "\n",
    "  for text in range(len(texts)):\n",
    "    if ':' in texts[text]:\n",
    "      num.append(text)\n",
    "  num.append(len(texts))\n",
    "\n",
    "  start=0\n",
    "  for split_pos in num:\n",
    "    temp=texts[start:split_pos]\n",
    "    result.append(temp)\n",
    "    start=split_pos\n",
    "    temp=[]\n",
    "  return result\n",
    "\n",
    "\n"
   ]
  },
  {
   "cell_type": "code",
   "execution_count": 34,
   "metadata": {
    "executionInfo": {
     "elapsed": 12,
     "status": "ok",
     "timestamp": 1715061765180,
     "user": {
      "displayName": "poomalai K",
      "userId": "10459400666516593639"
     },
     "user_tz": -330
    },
    "id": "OnSiNrUoaIoG"
   },
   "outputs": [],
   "source": [
    "import pandas as pd\n",
    "def To_json(arr):\n",
    "  result={}\n",
    "  df=pd.DataFrame(arr)\n",
    "  head=df[0]\n",
    "  filed=df.loc[:, 1:]\n",
    "\n",
    "  temp={}\n",
    "  for x in range(head.shape[0]):\n",
    "    for y in filed.iloc[x]:\n",
    "      if y is not None:\n",
    "        temp[y]=''\n",
    "    result[head[x]]=temp\n",
    "    temp={}\n",
    "\n",
    "  return result\n"
   ]
  },
  {
   "cell_type": "code",
   "execution_count": 35,
   "metadata": {
    "colab": {
     "base_uri": "https://localhost:8080/",
     "height": 120
    },
    "executionInfo": {
     "elapsed": 12,
     "status": "ok",
     "timestamp": 1715061765180,
     "user": {
      "displayName": "poomalai K",
      "userId": "10459400666516593639"
     },
     "user_tz": -330
    },
    "id": "-19NzhgWaIlu",
    "outputId": "689ffb20-0e8f-48b1-ff34-fc1418df3b01"
   },
   "outputs": [
    {
     "data": {
      "application/vnd.google.colaboratory.intrinsic+json": {
       "type": "string"
      },
      "text/plain": [
       "'{\"AUDIT  REPORT\": {\"Audit  Title\": \"\", \"Audit  ID\": \"\", \"Audit  Dates\": \"\", \"Audit  Team\": \"\", \"Audit  Target\": \"\", \"Audit  Location\": \"\"}, \"Response:\": {\"Response\": \"\", \"publication  Date   Response/  CAPA\": \"\", \"Due to QA by\": \"\", \"Status   Distribution  of\": \"\", \"observation\": \"\"}, \"Executive  Summary:\": {}, \"Description  of Observations:\": {\"Issue  ID Rating\": \"\", \"GXP Finding  Affiliation\": \"\", \"Sector\": \"\", \"Responsible  of Person  Internal  Key Contract\": \"\", \"CAPA  Champion\": \"\", \"Compliance  Topic\": \"\", \"Compliance  Sub Topic\": \"\"}, \"Observation:\": {}, \"References:  Publishing  Details:\": {\"Report  Published  by\": \"\", \"Report  Published  on\": \"\"}}'"
      ]
     },
     "execution_count": 35,
     "metadata": {},
     "output_type": "execute_result"
    }
   ],
   "source": [
    "import json\n",
    "data=extract_text(path)\n",
    "data=get_text(data)\n",
    "json_data = json.dumps(To_json(data))\n",
    "\n",
    "json_data"
   ]
  },
  {
   "cell_type": "code",
   "execution_count": 36,
   "metadata": {
    "colab": {
     "base_uri": "https://localhost:8080/"
    },
    "executionInfo": {
     "elapsed": 10,
     "status": "ok",
     "timestamp": 1715061765180,
     "user": {
      "displayName": "poomalai K",
      "userId": "10459400666516593639"
     },
     "user_tz": -330
    },
    "id": "3Cawnr4oaIqD",
    "outputId": "795e4afb-ead2-4d45-831b-cc1d907cd8c1"
   },
   "outputs": [
    {
     "name": "stdout",
     "output_type": "stream",
     "text": [
      "  TrialName             TrialId SiteName              SiteId  \\\n",
      "0   Test 23  a121s000001HxaGAAS   test 3  a131s000004HqD5AAK   \n",
      "1   Test 23  a121s000001HxaGAAS   test 3  a131s000004HqD5AAK   \n",
      "\n",
      "                                           AuditList    AuditId  \n",
      "0  {'VisitPlanId': 'a1D1s000001WZXZEA4', 'Questio...  AUDNUMBER  \n",
      "1  {'VisitPlanId': 'a1D1s000001WBjwEAG', 'Questio...  AUDNUMBER  \n"
     ]
    }
   ],
   "source": [
    "import pandas as pd\n",
    "\n",
    "df = pd.read_json('/content/drive/MyDrive/dsp/Rudhra Info Solution/Data set/Audit.json')\n",
    "\n",
    "print(df)"
   ]
  },
  {
   "cell_type": "code",
   "execution_count": 37,
   "metadata": {
    "colab": {
     "base_uri": "https://localhost:8080/",
     "height": 125
    },
    "executionInfo": {
     "elapsed": 8,
     "status": "ok",
     "timestamp": 1715061765180,
     "user": {
      "displayName": "poomalai K",
      "userId": "10459400666516593639"
     },
     "user_tz": -330
    },
    "id": "UZxwtvN8aIuP",
    "outputId": "af8366b7-1004-431b-b528-11b720970a33"
   },
   "outputs": [
    {
     "data": {
      "application/vnd.google.colaboratory.intrinsic+json": {
       "summary": "{\n  \"name\": \"df\",\n  \"rows\": 2,\n  \"fields\": [\n    {\n      \"column\": \"TrialName\",\n      \"properties\": {\n        \"dtype\": \"string\",\n        \"num_unique_values\": 1,\n        \"samples\": [\n          \"Test 23\"\n        ],\n        \"semantic_type\": \"\",\n        \"description\": \"\"\n      }\n    },\n    {\n      \"column\": \"TrialId\",\n      \"properties\": {\n        \"dtype\": \"string\",\n        \"num_unique_values\": 1,\n        \"samples\": [\n          \"a121s000001HxaGAAS\"\n        ],\n        \"semantic_type\": \"\",\n        \"description\": \"\"\n      }\n    },\n    {\n      \"column\": \"SiteName\",\n      \"properties\": {\n        \"dtype\": \"string\",\n        \"num_unique_values\": 1,\n        \"samples\": [\n          \"test 3\"\n        ],\n        \"semantic_type\": \"\",\n        \"description\": \"\"\n      }\n    },\n    {\n      \"column\": \"SiteId\",\n      \"properties\": {\n        \"dtype\": \"string\",\n        \"num_unique_values\": 1,\n        \"samples\": [\n          \"a131s000004HqD5AAK\"\n        ],\n        \"semantic_type\": \"\",\n        \"description\": \"\"\n      }\n    },\n    {\n      \"column\": \"AuditList\",\n      \"properties\": {\n        \"dtype\": \"object\",\n        \"semantic_type\": \"\",\n        \"description\": \"\"\n      }\n    },\n    {\n      \"column\": \"AuditId\",\n      \"properties\": {\n        \"dtype\": \"string\",\n        \"num_unique_values\": 1,\n        \"samples\": [\n          \"AUDNUMBER\"\n        ],\n        \"semantic_type\": \"\",\n        \"description\": \"\"\n      }\n    }\n  ]\n}",
       "type": "dataframe",
       "variable_name": "df"
      },
      "text/html": [
       "\n",
       "  <div id=\"df-d068e45f-2d7b-42a6-8d3e-9e7eba3c057d\" class=\"colab-df-container\">\n",
       "    <div>\n",
       "<style scoped>\n",
       "    .dataframe tbody tr th:only-of-type {\n",
       "        vertical-align: middle;\n",
       "    }\n",
       "\n",
       "    .dataframe tbody tr th {\n",
       "        vertical-align: top;\n",
       "    }\n",
       "\n",
       "    .dataframe thead th {\n",
       "        text-align: right;\n",
       "    }\n",
       "</style>\n",
       "<table border=\"1\" class=\"dataframe\">\n",
       "  <thead>\n",
       "    <tr style=\"text-align: right;\">\n",
       "      <th></th>\n",
       "      <th>TrialName</th>\n",
       "      <th>TrialId</th>\n",
       "      <th>SiteName</th>\n",
       "      <th>SiteId</th>\n",
       "      <th>AuditList</th>\n",
       "      <th>AuditId</th>\n",
       "    </tr>\n",
       "  </thead>\n",
       "  <tbody>\n",
       "    <tr>\n",
       "      <th>0</th>\n",
       "      <td>Test 23</td>\n",
       "      <td>a121s000001HxaGAAS</td>\n",
       "      <td>test 3</td>\n",
       "      <td>a131s000004HqD5AAK</td>\n",
       "      <td>{'VisitPlanId': 'a1D1s000001WZXZEA4', 'Questio...</td>\n",
       "      <td>AUDNUMBER</td>\n",
       "    </tr>\n",
       "    <tr>\n",
       "      <th>1</th>\n",
       "      <td>Test 23</td>\n",
       "      <td>a121s000001HxaGAAS</td>\n",
       "      <td>test 3</td>\n",
       "      <td>a131s000004HqD5AAK</td>\n",
       "      <td>{'VisitPlanId': 'a1D1s000001WBjwEAG', 'Questio...</td>\n",
       "      <td>AUDNUMBER</td>\n",
       "    </tr>\n",
       "  </tbody>\n",
       "</table>\n",
       "</div>\n",
       "    <div class=\"colab-df-buttons\">\n",
       "\n",
       "  <div class=\"colab-df-container\">\n",
       "    <button class=\"colab-df-convert\" onclick=\"convertToInteractive('df-d068e45f-2d7b-42a6-8d3e-9e7eba3c057d')\"\n",
       "            title=\"Convert this dataframe to an interactive table.\"\n",
       "            style=\"display:none;\">\n",
       "\n",
       "  <svg xmlns=\"http://www.w3.org/2000/svg\" height=\"24px\" viewBox=\"0 -960 960 960\">\n",
       "    <path d=\"M120-120v-720h720v720H120Zm60-500h600v-160H180v160Zm220 220h160v-160H400v160Zm0 220h160v-160H400v160ZM180-400h160v-160H180v160Zm440 0h160v-160H620v160ZM180-180h160v-160H180v160Zm440 0h160v-160H620v160Z\"/>\n",
       "  </svg>\n",
       "    </button>\n",
       "\n",
       "  <style>\n",
       "    .colab-df-container {\n",
       "      display:flex;\n",
       "      gap: 12px;\n",
       "    }\n",
       "\n",
       "    .colab-df-convert {\n",
       "      background-color: #E8F0FE;\n",
       "      border: none;\n",
       "      border-radius: 50%;\n",
       "      cursor: pointer;\n",
       "      display: none;\n",
       "      fill: #1967D2;\n",
       "      height: 32px;\n",
       "      padding: 0 0 0 0;\n",
       "      width: 32px;\n",
       "    }\n",
       "\n",
       "    .colab-df-convert:hover {\n",
       "      background-color: #E2EBFA;\n",
       "      box-shadow: 0px 1px 2px rgba(60, 64, 67, 0.3), 0px 1px 3px 1px rgba(60, 64, 67, 0.15);\n",
       "      fill: #174EA6;\n",
       "    }\n",
       "\n",
       "    .colab-df-buttons div {\n",
       "      margin-bottom: 4px;\n",
       "    }\n",
       "\n",
       "    [theme=dark] .colab-df-convert {\n",
       "      background-color: #3B4455;\n",
       "      fill: #D2E3FC;\n",
       "    }\n",
       "\n",
       "    [theme=dark] .colab-df-convert:hover {\n",
       "      background-color: #434B5C;\n",
       "      box-shadow: 0px 1px 3px 1px rgba(0, 0, 0, 0.15);\n",
       "      filter: drop-shadow(0px 1px 2px rgba(0, 0, 0, 0.3));\n",
       "      fill: #FFFFFF;\n",
       "    }\n",
       "  </style>\n",
       "\n",
       "    <script>\n",
       "      const buttonEl =\n",
       "        document.querySelector('#df-d068e45f-2d7b-42a6-8d3e-9e7eba3c057d button.colab-df-convert');\n",
       "      buttonEl.style.display =\n",
       "        google.colab.kernel.accessAllowed ? 'block' : 'none';\n",
       "\n",
       "      async function convertToInteractive(key) {\n",
       "        const element = document.querySelector('#df-d068e45f-2d7b-42a6-8d3e-9e7eba3c057d');\n",
       "        const dataTable =\n",
       "          await google.colab.kernel.invokeFunction('convertToInteractive',\n",
       "                                                    [key], {});\n",
       "        if (!dataTable) return;\n",
       "\n",
       "        const docLinkHtml = 'Like what you see? Visit the ' +\n",
       "          '<a target=\"_blank\" href=https://colab.research.google.com/notebooks/data_table.ipynb>data table notebook</a>'\n",
       "          + ' to learn more about interactive tables.';\n",
       "        element.innerHTML = '';\n",
       "        dataTable['output_type'] = 'display_data';\n",
       "        await google.colab.output.renderOutput(dataTable, element);\n",
       "        const docLink = document.createElement('div');\n",
       "        docLink.innerHTML = docLinkHtml;\n",
       "        element.appendChild(docLink);\n",
       "      }\n",
       "    </script>\n",
       "  </div>\n",
       "\n",
       "\n",
       "<div id=\"df-9f514257-84e9-40a1-b785-407192ba40ea\">\n",
       "  <button class=\"colab-df-quickchart\" onclick=\"quickchart('df-9f514257-84e9-40a1-b785-407192ba40ea')\"\n",
       "            title=\"Suggest charts\"\n",
       "            style=\"display:none;\">\n",
       "\n",
       "<svg xmlns=\"http://www.w3.org/2000/svg\" height=\"24px\"viewBox=\"0 0 24 24\"\n",
       "     width=\"24px\">\n",
       "    <g>\n",
       "        <path d=\"M19 3H5c-1.1 0-2 .9-2 2v14c0 1.1.9 2 2 2h14c1.1 0 2-.9 2-2V5c0-1.1-.9-2-2-2zM9 17H7v-7h2v7zm4 0h-2V7h2v10zm4 0h-2v-4h2v4z\"/>\n",
       "    </g>\n",
       "</svg>\n",
       "  </button>\n",
       "\n",
       "<style>\n",
       "  .colab-df-quickchart {\n",
       "      --bg-color: #E8F0FE;\n",
       "      --fill-color: #1967D2;\n",
       "      --hover-bg-color: #E2EBFA;\n",
       "      --hover-fill-color: #174EA6;\n",
       "      --disabled-fill-color: #AAA;\n",
       "      --disabled-bg-color: #DDD;\n",
       "  }\n",
       "\n",
       "  [theme=dark] .colab-df-quickchart {\n",
       "      --bg-color: #3B4455;\n",
       "      --fill-color: #D2E3FC;\n",
       "      --hover-bg-color: #434B5C;\n",
       "      --hover-fill-color: #FFFFFF;\n",
       "      --disabled-bg-color: #3B4455;\n",
       "      --disabled-fill-color: #666;\n",
       "  }\n",
       "\n",
       "  .colab-df-quickchart {\n",
       "    background-color: var(--bg-color);\n",
       "    border: none;\n",
       "    border-radius: 50%;\n",
       "    cursor: pointer;\n",
       "    display: none;\n",
       "    fill: var(--fill-color);\n",
       "    height: 32px;\n",
       "    padding: 0;\n",
       "    width: 32px;\n",
       "  }\n",
       "\n",
       "  .colab-df-quickchart:hover {\n",
       "    background-color: var(--hover-bg-color);\n",
       "    box-shadow: 0 1px 2px rgba(60, 64, 67, 0.3), 0 1px 3px 1px rgba(60, 64, 67, 0.15);\n",
       "    fill: var(--button-hover-fill-color);\n",
       "  }\n",
       "\n",
       "  .colab-df-quickchart-complete:disabled,\n",
       "  .colab-df-quickchart-complete:disabled:hover {\n",
       "    background-color: var(--disabled-bg-color);\n",
       "    fill: var(--disabled-fill-color);\n",
       "    box-shadow: none;\n",
       "  }\n",
       "\n",
       "  .colab-df-spinner {\n",
       "    border: 2px solid var(--fill-color);\n",
       "    border-color: transparent;\n",
       "    border-bottom-color: var(--fill-color);\n",
       "    animation:\n",
       "      spin 1s steps(1) infinite;\n",
       "  }\n",
       "\n",
       "  @keyframes spin {\n",
       "    0% {\n",
       "      border-color: transparent;\n",
       "      border-bottom-color: var(--fill-color);\n",
       "      border-left-color: var(--fill-color);\n",
       "    }\n",
       "    20% {\n",
       "      border-color: transparent;\n",
       "      border-left-color: var(--fill-color);\n",
       "      border-top-color: var(--fill-color);\n",
       "    }\n",
       "    30% {\n",
       "      border-color: transparent;\n",
       "      border-left-color: var(--fill-color);\n",
       "      border-top-color: var(--fill-color);\n",
       "      border-right-color: var(--fill-color);\n",
       "    }\n",
       "    40% {\n",
       "      border-color: transparent;\n",
       "      border-right-color: var(--fill-color);\n",
       "      border-top-color: var(--fill-color);\n",
       "    }\n",
       "    60% {\n",
       "      border-color: transparent;\n",
       "      border-right-color: var(--fill-color);\n",
       "    }\n",
       "    80% {\n",
       "      border-color: transparent;\n",
       "      border-right-color: var(--fill-color);\n",
       "      border-bottom-color: var(--fill-color);\n",
       "    }\n",
       "    90% {\n",
       "      border-color: transparent;\n",
       "      border-bottom-color: var(--fill-color);\n",
       "    }\n",
       "  }\n",
       "</style>\n",
       "\n",
       "  <script>\n",
       "    async function quickchart(key) {\n",
       "      const quickchartButtonEl =\n",
       "        document.querySelector('#' + key + ' button');\n",
       "      quickchartButtonEl.disabled = true;  // To prevent multiple clicks.\n",
       "      quickchartButtonEl.classList.add('colab-df-spinner');\n",
       "      try {\n",
       "        const charts = await google.colab.kernel.invokeFunction(\n",
       "            'suggestCharts', [key], {});\n",
       "      } catch (error) {\n",
       "        console.error('Error during call to suggestCharts:', error);\n",
       "      }\n",
       "      quickchartButtonEl.classList.remove('colab-df-spinner');\n",
       "      quickchartButtonEl.classList.add('colab-df-quickchart-complete');\n",
       "    }\n",
       "    (() => {\n",
       "      let quickchartButtonEl =\n",
       "        document.querySelector('#df-9f514257-84e9-40a1-b785-407192ba40ea button');\n",
       "      quickchartButtonEl.style.display =\n",
       "        google.colab.kernel.accessAllowed ? 'block' : 'none';\n",
       "    })();\n",
       "  </script>\n",
       "</div>\n",
       "\n",
       "  <div id=\"id_08a9a21b-c23a-47fd-b2ca-b28dd9692e96\">\n",
       "    <style>\n",
       "      .colab-df-generate {\n",
       "        background-color: #E8F0FE;\n",
       "        border: none;\n",
       "        border-radius: 50%;\n",
       "        cursor: pointer;\n",
       "        display: none;\n",
       "        fill: #1967D2;\n",
       "        height: 32px;\n",
       "        padding: 0 0 0 0;\n",
       "        width: 32px;\n",
       "      }\n",
       "\n",
       "      .colab-df-generate:hover {\n",
       "        background-color: #E2EBFA;\n",
       "        box-shadow: 0px 1px 2px rgba(60, 64, 67, 0.3), 0px 1px 3px 1px rgba(60, 64, 67, 0.15);\n",
       "        fill: #174EA6;\n",
       "      }\n",
       "\n",
       "      [theme=dark] .colab-df-generate {\n",
       "        background-color: #3B4455;\n",
       "        fill: #D2E3FC;\n",
       "      }\n",
       "\n",
       "      [theme=dark] .colab-df-generate:hover {\n",
       "        background-color: #434B5C;\n",
       "        box-shadow: 0px 1px 3px 1px rgba(0, 0, 0, 0.15);\n",
       "        filter: drop-shadow(0px 1px 2px rgba(0, 0, 0, 0.3));\n",
       "        fill: #FFFFFF;\n",
       "      }\n",
       "    </style>\n",
       "    <button class=\"colab-df-generate\" onclick=\"generateWithVariable('df')\"\n",
       "            title=\"Generate code using this dataframe.\"\n",
       "            style=\"display:none;\">\n",
       "\n",
       "  <svg xmlns=\"http://www.w3.org/2000/svg\" height=\"24px\"viewBox=\"0 0 24 24\"\n",
       "       width=\"24px\">\n",
       "    <path d=\"M7,19H8.4L18.45,9,17,7.55,7,17.6ZM5,21V16.75L18.45,3.32a2,2,0,0,1,2.83,0l1.4,1.43a1.91,1.91,0,0,1,.58,1.4,1.91,1.91,0,0,1-.58,1.4L9.25,21ZM18.45,9,17,7.55Zm-12,3A5.31,5.31,0,0,0,4.9,8.1,5.31,5.31,0,0,0,1,6.5,5.31,5.31,0,0,0,4.9,4.9,5.31,5.31,0,0,0,6.5,1,5.31,5.31,0,0,0,8.1,4.9,5.31,5.31,0,0,0,12,6.5,5.46,5.46,0,0,0,6.5,12Z\"/>\n",
       "  </svg>\n",
       "    </button>\n",
       "    <script>\n",
       "      (() => {\n",
       "      const buttonEl =\n",
       "        document.querySelector('#id_08a9a21b-c23a-47fd-b2ca-b28dd9692e96 button.colab-df-generate');\n",
       "      buttonEl.style.display =\n",
       "        google.colab.kernel.accessAllowed ? 'block' : 'none';\n",
       "\n",
       "      buttonEl.onclick = () => {\n",
       "        google.colab.notebook.generateWithVariable('df');\n",
       "      }\n",
       "      })();\n",
       "    </script>\n",
       "  </div>\n",
       "\n",
       "    </div>\n",
       "  </div>\n"
      ],
      "text/plain": [
       "  TrialName             TrialId SiteName              SiteId  \\\n",
       "0   Test 23  a121s000001HxaGAAS   test 3  a131s000004HqD5AAK   \n",
       "1   Test 23  a121s000001HxaGAAS   test 3  a131s000004HqD5AAK   \n",
       "\n",
       "                                           AuditList    AuditId  \n",
       "0  {'VisitPlanId': 'a1D1s000001WZXZEA4', 'Questio...  AUDNUMBER  \n",
       "1  {'VisitPlanId': 'a1D1s000001WBjwEAG', 'Questio...  AUDNUMBER  "
      ]
     },
     "execution_count": 37,
     "metadata": {},
     "output_type": "execute_result"
    }
   ],
   "source": [
    "import json\n",
    "import pandas as pd\n",
    "\n",
    "with open('/content/drive/MyDrive/dsp/Rudhra Info Solution/Data set/Audit.json', 'r') as f:\n",
    "    data = json.load(f)\n",
    "\n",
    "df=pd.DataFrame(data)\n",
    "df\n"
   ]
  },
  {
   "cell_type": "code",
   "execution_count": 38,
   "metadata": {
    "colab": {
     "base_uri": "https://localhost:8080/",
     "height": 523
    },
    "executionInfo": {
     "elapsed": 483,
     "status": "error",
     "timestamp": 1715061765657,
     "user": {
      "displayName": "poomalai K",
      "userId": "10459400666516593639"
     },
     "user_tz": -330
    },
    "id": "jgy1Fh_xUGOa",
    "outputId": "1c4b15f4-a1af-465f-8e91-88aef81df1d1"
   },
   "outputs": [
    {
     "name": "stderr",
     "output_type": "stream",
     "text": [
      "<ipython-input-38-3cf189ea75bd>:39: SettingWithCopyWarning: \n",
      "A value is trying to be set on a copy of a slice from a DataFrame\n",
      "\n",
      "See the caveats in the documentation: https://pandas.pydata.org/pandas-docs/stable/user_guide/indexing.html#returning-a-view-versus-a-copy\n",
      "  df.loc[row][col]=False\n",
      "<ipython-input-38-3cf189ea75bd>:39: SettingWithCopyWarning: \n",
      "A value is trying to be set on a copy of a slice from a DataFrame\n",
      "\n",
      "See the caveats in the documentation: https://pandas.pydata.org/pandas-docs/stable/user_guide/indexing.html#returning-a-view-versus-a-copy\n",
      "  df.loc[row][col]=False\n"
     ]
    },
    {
     "ename": "UnboundLocalError",
     "evalue": "local variable 'dfm' referenced before assignment",
     "output_type": "error",
     "traceback": [
      "\u001b[0;31m---------------------------------------------------------------------------\u001b[0m",
      "\u001b[0;31mUnboundLocalError\u001b[0m                         Traceback (most recent call last)",
      "\u001b[0;32m<ipython-input-38-3cf189ea75bd>\u001b[0m in \u001b[0;36m<cell line: 54>\u001b[0;34m()\u001b[0m\n\u001b[1;32m     52\u001b[0m \u001b[0mconvert\u001b[0m\u001b[0;34m=\u001b[0m\u001b[0mConvert\u001b[0m\u001b[0;34m(\u001b[0m\u001b[0mpath\u001b[0m\u001b[0;34m)\u001b[0m\u001b[0;34m\u001b[0m\u001b[0;34m\u001b[0m\u001b[0m\n\u001b[1;32m     53\u001b[0m \u001b[0mdf\u001b[0m\u001b[0;34m=\u001b[0m\u001b[0mconvert\u001b[0m\u001b[0;34m.\u001b[0m\u001b[0mdf\u001b[0m\u001b[0;34m(\u001b[0m\u001b[0;34m)\u001b[0m\u001b[0;34m\u001b[0m\u001b[0;34m\u001b[0m\u001b[0m\n\u001b[0;32m---> 54\u001b[0;31m \u001b[0mt\u001b[0m\u001b[0;34m=\u001b[0m\u001b[0mconvert\u001b[0m\u001b[0;34m.\u001b[0m\u001b[0mextend_nested\u001b[0m\u001b[0;34m(\u001b[0m\u001b[0mdf\u001b[0m\u001b[0;34m)\u001b[0m\u001b[0;34m\u001b[0m\u001b[0;34m\u001b[0m\u001b[0m\n\u001b[0m\u001b[1;32m     55\u001b[0m \u001b[0mt\u001b[0m\u001b[0;34m.\u001b[0m\u001b[0mto_csv\u001b[0m\u001b[0;34m(\u001b[0m\u001b[0;34m'out.csv'\u001b[0m\u001b[0;34m)\u001b[0m\u001b[0;34m\u001b[0m\u001b[0;34m\u001b[0m\u001b[0m\n",
      "\u001b[0;32m<ipython-input-38-3cf189ea75bd>\u001b[0m in \u001b[0;36mextend_nested\u001b[0;34m(self, df)\u001b[0m\n\u001b[1;32m     39\u001b[0m           \u001b[0mdf\u001b[0m\u001b[0;34m.\u001b[0m\u001b[0mloc\u001b[0m\u001b[0;34m[\u001b[0m\u001b[0mrow\u001b[0m\u001b[0;34m]\u001b[0m\u001b[0;34m[\u001b[0m\u001b[0mcol\u001b[0m\u001b[0;34m]\u001b[0m\u001b[0;34m=\u001b[0m\u001b[0;32mFalse\u001b[0m\u001b[0;34m\u001b[0m\u001b[0;34m\u001b[0m\u001b[0m\n\u001b[1;32m     40\u001b[0m     \u001b[0;32mif\u001b[0m \u001b[0mself\u001b[0m\u001b[0;34m.\u001b[0m\u001b[0mfind_nested\u001b[0m\u001b[0;34m(\u001b[0m\u001b[0mdfm\u001b[0m\u001b[0;34m)\u001b[0m\u001b[0;34m:\u001b[0m\u001b[0;34m\u001b[0m\u001b[0;34m\u001b[0m\u001b[0m\n\u001b[0;32m---> 41\u001b[0;31m       \u001b[0mself\u001b[0m\u001b[0;34m.\u001b[0m\u001b[0mextend_nested\u001b[0m\u001b[0;34m(\u001b[0m\u001b[0mdfm\u001b[0m\u001b[0;34m)\u001b[0m\u001b[0;34m\u001b[0m\u001b[0;34m\u001b[0m\u001b[0m\n\u001b[0m\u001b[1;32m     42\u001b[0m     \u001b[0;32melse\u001b[0m\u001b[0;34m:\u001b[0m\u001b[0;34m\u001b[0m\u001b[0;34m\u001b[0m\u001b[0m\n\u001b[1;32m     43\u001b[0m       \u001b[0;32mreturn\u001b[0m \u001b[0mdfm\u001b[0m\u001b[0;34m\u001b[0m\u001b[0;34m\u001b[0m\u001b[0m\n",
      "\u001b[0;32m<ipython-input-38-3cf189ea75bd>\u001b[0m in \u001b[0;36mextend_nested\u001b[0;34m(self, df)\u001b[0m\n\u001b[1;32m     38\u001b[0m           \u001b[0mdfm\u001b[0m\u001b[0;34m=\u001b[0m\u001b[0mself\u001b[0m\u001b[0;34m.\u001b[0m\u001b[0madd_colunm\u001b[0m\u001b[0;34m(\u001b[0m\u001b[0mdf\u001b[0m\u001b[0;34m,\u001b[0m\u001b[0mdf1\u001b[0m\u001b[0;34m)\u001b[0m\u001b[0;34m\u001b[0m\u001b[0;34m\u001b[0m\u001b[0m\n\u001b[1;32m     39\u001b[0m           \u001b[0mdf\u001b[0m\u001b[0;34m.\u001b[0m\u001b[0mloc\u001b[0m\u001b[0;34m[\u001b[0m\u001b[0mrow\u001b[0m\u001b[0;34m]\u001b[0m\u001b[0;34m[\u001b[0m\u001b[0mcol\u001b[0m\u001b[0;34m]\u001b[0m\u001b[0;34m=\u001b[0m\u001b[0;32mFalse\u001b[0m\u001b[0;34m\u001b[0m\u001b[0;34m\u001b[0m\u001b[0m\n\u001b[0;32m---> 40\u001b[0;31m     \u001b[0;32mif\u001b[0m \u001b[0mself\u001b[0m\u001b[0;34m.\u001b[0m\u001b[0mfind_nested\u001b[0m\u001b[0;34m(\u001b[0m\u001b[0mdfm\u001b[0m\u001b[0;34m)\u001b[0m\u001b[0;34m:\u001b[0m\u001b[0;34m\u001b[0m\u001b[0;34m\u001b[0m\u001b[0m\n\u001b[0m\u001b[1;32m     41\u001b[0m       \u001b[0mself\u001b[0m\u001b[0;34m.\u001b[0m\u001b[0mextend_nested\u001b[0m\u001b[0;34m(\u001b[0m\u001b[0mdfm\u001b[0m\u001b[0;34m)\u001b[0m\u001b[0;34m\u001b[0m\u001b[0;34m\u001b[0m\u001b[0m\n\u001b[1;32m     42\u001b[0m     \u001b[0;32melse\u001b[0m\u001b[0;34m:\u001b[0m\u001b[0;34m\u001b[0m\u001b[0;34m\u001b[0m\u001b[0m\n",
      "\u001b[0;31mUnboundLocalError\u001b[0m: local variable 'dfm' referenced before assignment"
     ]
    }
   ],
   "source": [
    "import json\n",
    "import pandas as pd\n",
    "\n",
    "class Convert:\n",
    "  global cols\n",
    "  cols=[]\n",
    "\n",
    "  def __init__(self, path):\n",
    "    self.path=path\n",
    "\n",
    "  def add_colunm(self,df,df1):\n",
    "    for column_name, column_data in df1.items():\n",
    "      if column_name in df:\n",
    "        df = pd.concat([df, df1[column_name]], ignore_index=True)\n",
    "      else:\n",
    "        df[column_name]=df1[column_name]\n",
    "    return df\n",
    "\n",
    "  def find_nested(self,df):\n",
    "    for row in range(len(df)):\n",
    "      for col in df:\n",
    "        if isinstance(df.loc[row][col], dict):\n",
    "          return True\n",
    "    return False\n",
    "\n",
    "  def extend_nested(self,df):\n",
    "    for row in range(len(df)):\n",
    "      for col in df:\n",
    "        if col not in cols:\n",
    "          cols.append(col)\n",
    "        else:\n",
    "          continue\n",
    "        if isinstance(df.loc[row][col], dict):\n",
    "          try:\n",
    "            df1=pd.DataFrame(df.loc[row][col])\n",
    "          except ValueError:\n",
    "            continue\n",
    "          dfm=self.add_colunm(df,df1)\n",
    "          df.loc[row][col]=False\n",
    "    if self.find_nested(dfm):\n",
    "      self.extend_nested(dfm)\n",
    "    else:\n",
    "      return dfm\n",
    "\n",
    "  def df(self):\n",
    "    with open(path, 'r') as f:\n",
    "      data = json.load(f)\n",
    "      df=pd.DataFrame(data)\n",
    "    return df\n",
    "\n",
    "path='/content/drive/MyDrive/dsp/Rudhra Info Solution/Data set/Audit.json'\n",
    "convert=Convert(path)\n",
    "df=convert.df()\n",
    "t=convert.extend_nested(df)\n",
    "t.to_csv('out.csv')\n"
   ]
  },
  {
   "cell_type": "code",
   "execution_count": null,
   "metadata": {
    "executionInfo": {
     "elapsed": 6,
     "status": "aborted",
     "timestamp": 1715061765657,
     "user": {
      "displayName": "poomalai K",
      "userId": "10459400666516593639"
     },
     "user_tz": -330
    },
    "id": "lpEdIEBwyL6E"
   },
   "outputs": [],
   "source": [
    "import json\n",
    "import pandas as pd\n",
    "\n",
    "class Convert:\n",
    "  def __init__(self, path):\n",
    "    self.path=path\n",
    "\n",
    "  def add_colunm(self,df,df1):\n",
    "    for column_name, column_data in df1.items():\n",
    "      if column_name in df:\n",
    "        df = pd.concat([df, df1[column_name]], ignore_index=True)\n",
    "      else:\n",
    "        df[column_name]=df1[column_name]\n",
    "    return df\n",
    "\n",
    "  def find_nested(self,df):\n",
    "    for row in range(len(df)):\n",
    "      for col in df:\n",
    "        if isinstance(df.loc[row][col], dict):\n",
    "          return True\n",
    "    return False\n",
    "\n",
    "  def extend_nested(self,df):\n",
    "    for col in df:\n",
    "      if isinstance(df[col], dict):\n",
    "        print(df[col])\n",
    "\n",
    "  def df(self):\n",
    "    with open(path, 'r') as f:\n",
    "      data = json.load(f)\n",
    "      df=pd.DataFrame(data)\n",
    "    return df\n",
    "\n",
    "path='/content/drive/MyDrive/dsp/Rudhra Info Solution/Data set/Audit.json'\n",
    "convert=Convert(path)\n",
    "df=convert.df()\n",
    "t=convert.extend_nested(df)\n",
    "# t.to_csv('out.csv')"
   ]
  },
  {
   "cell_type": "code",
   "execution_count": null,
   "metadata": {
    "executionInfo": {
     "elapsed": 5,
     "status": "aborted",
     "timestamp": 1715061765657,
     "user": {
      "displayName": "poomalai K",
      "userId": "10459400666516593639"
     },
     "user_tz": -330
    },
    "id": "j45-7tfe0a9i"
   },
   "outputs": [],
   "source": [
    "'''series = pd.Series(['apple', 'banana', 'orange'])\n",
    "\n",
    "# Check if all elements in the Series are of type str\n",
    "result = all(series.map(lambda x: isinstance(x, str)))\n",
    "print(result)  # Output: True\n",
    "This code checks whether all elements in the Series series are of type str. The map function is used to apply the isinstance() function to each element of the Series. The all function checks if all the results are True, indicating that all elements are indeed strings.\n",
    "\n",
    "Similarly, if you want to check if any element in the Series is of a certain type, you can use the any function:\n",
    "\n",
    "python\n",
    "Copy code\n",
    "# Check if any element in the Series is of type int\n",
    "result = any(series.map(lambda x: isinstance(x, int)))\n",
    "print(result)  # Output: False\n",
    "This code checks whether any element in the Series series is of type int. The any function checks if any of the results are True, indicating that at least one element is an integer.\n",
    "\n",
    "These approaches allow you to perform type checking on elements within a pandas Series.'''"
   ]
  },
  {
   "cell_type": "code",
   "execution_count": null,
   "metadata": {
    "executionInfo": {
     "elapsed": 6,
     "status": "aborted",
     "timestamp": 1715061765658,
     "user": {
      "displayName": "poomalai K",
      "userId": "10459400666516593639"
     },
     "user_tz": -330
    },
    "id": "-ymCE7xu0bB5"
   },
   "outputs": [],
   "source": [
    "import pandas as pd\n",
    "\n",
    "# Suppose 'df' is your DataFrame\n",
    "df = pd.DataFrame({\n",
    "    'A': [1, 2, 3],\n",
    "    'B': [4, 5, 6]\n",
    "})\n",
    "\n",
    "# Create a new row as a dictionary\n",
    "new_row = {'A': 7, 'B': 8}\n",
    "\n",
    "# Append the new row to 'df'\n",
    "df = df.append(new_row, ignore_index=True)\n",
    "\n",
    "print(df)\n",
    "\n",
    "# Create a new DataFrame with the row you want to add\n",
    "new_row_df = pd.DataFrame({'A': [7], 'B': [8]})\n",
    "\n",
    "# Concatenate 'df' and 'new_row_df' to add the new row\n",
    "df = pd.concat([df, new_row_df], ignore_index=True)\n",
    "\n",
    "print(df)\n"
   ]
  },
  {
   "cell_type": "code",
   "execution_count": null,
   "metadata": {
    "executionInfo": {
     "elapsed": 6,
     "status": "aborted",
     "timestamp": 1715061765658,
     "user": {
      "displayName": "poomalai K",
      "userId": "10459400666516593639"
     },
     "user_tz": -330
    },
    "id": "qzWDmQEr0bG3"
   },
   "outputs": [],
   "source": [
    "!pip install --upgrade pandas\n",
    "\n"
   ]
  },
  {
   "cell_type": "code",
   "execution_count": null,
   "metadata": {
    "executionInfo": {
     "elapsed": 6,
     "status": "aborted",
     "timestamp": 1715061765658,
     "user": {
      "displayName": "poomalai K",
      "userId": "10459400666516593639"
     },
     "user_tz": -330
    },
    "id": "X1W62icN0bEh"
   },
   "outputs": [],
   "source": [
    "import pandas as pd\n",
    "\n",
    "# Suppose 'df' is your DataFrame\n",
    "df = pd.DataFrame({\n",
    "    'A': [1, 2, 3],\n",
    "    'B': [4, 5, 6]\n",
    "})\n",
    "\n",
    "# Create a new Series representing the row to be added\n",
    "new_row = pd.Series({'A': 7, 'B': 8})\n",
    "\n",
    "# Use the loc indexer to add the new row\n",
    "df.loc[len(df)] = new_row\n",
    "\n",
    "print(df)\n",
    "\n",
    "\n"
   ]
  },
  {
   "cell_type": "code",
   "execution_count": 44,
   "metadata": {
    "colab": {
     "base_uri": "https://localhost:8080/"
    },
    "executionInfo": {
     "elapsed": 497,
     "status": "ok",
     "timestamp": 1715063367484,
     "user": {
      "displayName": "poomalai K",
      "userId": "10459400666516593639"
     },
     "user_tz": -330
    },
    "id": "4vkxNCyS0bJN",
    "outputId": "7e6f084f-cd7d-4448-b780-94b9f31b7e0a"
   },
   "outputs": [
    {
     "name": "stdout",
     "output_type": "stream",
     "text": [
      "0    1\n",
      "1    2\n",
      "2    3\n",
      "3    4\n",
      "4    5\n",
      "5    6\n",
      "dtype: int64\n"
     ]
    }
   ],
   "source": [
    "import pandas as pd\n",
    "\n",
    "# Create two sample Series\n",
    "series1 = pd.Series([1, 2, 3], name='Series1')\n",
    "series2 = pd.Series([4, 5, 6], name='Series2')\n",
    "\n",
    "# Concatenate the series along axis 1 (columns-wise)\n",
    "joined_series = pd.concat([series1, series2], axis=0,ignore_index=True)\n",
    "\n",
    "print(joined_series)\n",
    "\n",
    "\n"
   ]
  },
  {
   "cell_type": "code",
   "execution_count": null,
   "metadata": {
    "executionInfo": {
     "elapsed": 5,
     "status": "aborted",
     "timestamp": 1715061765658,
     "user": {
      "displayName": "poomalai K",
      "userId": "10459400666516593639"
     },
     "user_tz": -330
    },
    "id": "pmwk3AY-0bLT"
   },
   "outputs": [],
   "source": []
  },
  {
   "cell_type": "code",
   "execution_count": null,
   "metadata": {
    "executionInfo": {
     "elapsed": 5,
     "status": "aborted",
     "timestamp": 1715061765658,
     "user": {
      "displayName": "poomalai K",
      "userId": "10459400666516593639"
     },
     "user_tz": -330
    },
    "id": "aGDDnxbs0bNb"
   },
   "outputs": [],
   "source": []
  },
  {
   "cell_type": "code",
   "execution_count": null,
   "metadata": {
    "executionInfo": {
     "elapsed": 5,
     "status": "aborted",
     "timestamp": 1715061765658,
     "user": {
      "displayName": "poomalai K",
      "userId": "10459400666516593639"
     },
     "user_tz": -330
    },
    "id": "m2cn1uRR0bUa"
   },
   "outputs": [],
   "source": []
  }
 ],
 "metadata": {
  "colab": {
   "authorship_tag": "ABX9TyMCxXjSrUVX8weE/AsqueEI",
   "mount_file_id": "1zTuVlWR9niuNnG1AnegaL8xihpfyGF6-",
   "provenance": []
  },
  "kernelspec": {
   "display_name": "Python 3 (ipykernel)",
   "language": "python",
   "name": "python3"
  },
  "language_info": {
   "codemirror_mode": {
    "name": "ipython",
    "version": 3
   },
   "file_extension": ".py",
   "mimetype": "text/x-python",
   "name": "python",
   "nbconvert_exporter": "python",
   "pygments_lexer": "ipython3",
   "version": "3.11.7"
  }
 },
 "nbformat": 4,
 "nbformat_minor": 4
}
